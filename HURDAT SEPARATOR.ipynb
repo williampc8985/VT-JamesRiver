{
 "cells": [
  {
   "cell_type": "code",
   "execution_count": 76,
   "metadata": {},
   "outputs": [],
   "source": [
    "# the first thing is to import pandas and datatime\n",
    "import matplotlib.pyplot as plt\n",
    "import csv\n",
    "import shapefile\n",
    "import pandas as pd\n",
    "from shapely.geometry import Point, Polygon, mapping\n",
    "from fiona import collection\n",
    "import geopandas as gpd\n",
    "import shapely.geometry as Polygon\n",
    "import datetime\n",
    "from datetime import datetime\n",
    "import numpy as np\n",
    "import filecmp\n",
    "from geopandas import GeoDataFrame as gdf\n",
    "import cartopy.crs as ccrs\n",
    "import cartopy.feature as cfeature\n",
    "#MAGIC  - render the figure in the notebook.\n",
    "%matplotlib inline"
   ]
  },
  {
   "cell_type": "code",
   "execution_count": 77,
   "metadata": {},
   "outputs": [],
   "source": [
    "# we know that the lat long is north-west, turn them into floating pt values\n",
    "def lat_lon_to_float(v):  \n",
    "    '''convert strings from NHC to float locations'''\n",
    "    if(v[-1] == 'S') or (v[-1] == 'W'):\n",
    "        multiplier = -1\n",
    "    else:\n",
    "        multiplier = 1\n",
    "    return float(v[:-1]) * multiplier"
   ]
  },
  {
   "cell_type": "code",
   "execution_count": 99,
   "metadata": {},
   "outputs": [],
   "source": [
    "hurdata = []\n",
    "with open ('hurdat2.txt','r') as f:\n",
    "    for line in f.readlines():\n",
    "        if line.startswith('AL'):\n",
    "            storm_id = line.split(',')\n",
    "            storm_number = storm_id[0].strip()\n",
    "            storm_name = storm_id[1].strip() \n",
    "        else:\n",
    "            location_line = line.split(',')\n",
    "            dt = datetime.strptime(location_line[0]+location_line[1], '%Y%m%d %H%M' )\n",
    "            storm_status = location_line[3].strip()\n",
    "            storm_lat = lat_lon_to_float(location_line[4].strip())\n",
    "            storm_lon = lat_lon_to_float(location_line[5].strip())\n",
    "            max_speed = float(location_line[7].strip())\n",
    "            hurdata.append([storm_number, storm_name, storm_status, storm_lat, storm_lon, dt, max_speed])"
   ]
  },
  {
   "cell_type": "code",
   "execution_count": 100,
   "metadata": {},
   "outputs": [
    {
     "data": {
      "text/html": [
       "<div>\n",
       "<style scoped>\n",
       "    .dataframe tbody tr th:only-of-type {\n",
       "        vertical-align: middle;\n",
       "    }\n",
       "\n",
       "    .dataframe tbody tr th {\n",
       "        vertical-align: top;\n",
       "    }\n",
       "\n",
       "    .dataframe thead th {\n",
       "        text-align: right;\n",
       "    }\n",
       "</style>\n",
       "<table border=\"1\" class=\"dataframe\">\n",
       "  <thead>\n",
       "    <tr style=\"text-align: right;\">\n",
       "      <th></th>\n",
       "      <th>Storm Number</th>\n",
       "      <th>Storm Name</th>\n",
       "      <th>Storm Status</th>\n",
       "      <th>Lat</th>\n",
       "      <th>Lon</th>\n",
       "      <th>Time</th>\n",
       "      <th>Max Speed</th>\n",
       "    </tr>\n",
       "  </thead>\n",
       "  <tbody>\n",
       "    <tr>\n",
       "      <th>0</th>\n",
       "      <td>AL011851</td>\n",
       "      <td>UNNAMED</td>\n",
       "      <td>HU</td>\n",
       "      <td>28.0</td>\n",
       "      <td>-94.8</td>\n",
       "      <td>1851-06-25 00:00:00</td>\n",
       "      <td>-999.0</td>\n",
       "    </tr>\n",
       "    <tr>\n",
       "      <th>1</th>\n",
       "      <td>AL011851</td>\n",
       "      <td>UNNAMED</td>\n",
       "      <td>HU</td>\n",
       "      <td>28.0</td>\n",
       "      <td>-95.4</td>\n",
       "      <td>1851-06-25 06:00:00</td>\n",
       "      <td>-999.0</td>\n",
       "    </tr>\n",
       "    <tr>\n",
       "      <th>2</th>\n",
       "      <td>AL011851</td>\n",
       "      <td>UNNAMED</td>\n",
       "      <td>HU</td>\n",
       "      <td>28.0</td>\n",
       "      <td>-96.0</td>\n",
       "      <td>1851-06-25 12:00:00</td>\n",
       "      <td>-999.0</td>\n",
       "    </tr>\n",
       "    <tr>\n",
       "      <th>3</th>\n",
       "      <td>AL011851</td>\n",
       "      <td>UNNAMED</td>\n",
       "      <td>HU</td>\n",
       "      <td>28.1</td>\n",
       "      <td>-96.5</td>\n",
       "      <td>1851-06-25 18:00:00</td>\n",
       "      <td>-999.0</td>\n",
       "    </tr>\n",
       "    <tr>\n",
       "      <th>4</th>\n",
       "      <td>AL011851</td>\n",
       "      <td>UNNAMED</td>\n",
       "      <td>HU</td>\n",
       "      <td>28.2</td>\n",
       "      <td>-96.8</td>\n",
       "      <td>1851-06-25 21:00:00</td>\n",
       "      <td>-999.0</td>\n",
       "    </tr>\n",
       "  </tbody>\n",
       "</table>\n",
       "</div>"
      ],
      "text/plain": [
       "  Storm Number Storm Name Storm Status   Lat   Lon                Time  \\\n",
       "0     AL011851    UNNAMED           HU  28.0 -94.8 1851-06-25 00:00:00   \n",
       "1     AL011851    UNNAMED           HU  28.0 -95.4 1851-06-25 06:00:00   \n",
       "2     AL011851    UNNAMED           HU  28.0 -96.0 1851-06-25 12:00:00   \n",
       "3     AL011851    UNNAMED           HU  28.1 -96.5 1851-06-25 18:00:00   \n",
       "4     AL011851    UNNAMED           HU  28.2 -96.8 1851-06-25 21:00:00   \n",
       "\n",
       "   Max Speed  \n",
       "0     -999.0  \n",
       "1     -999.0  \n",
       "2     -999.0  \n",
       "3     -999.0  \n",
       "4     -999.0  "
      ]
     },
     "execution_count": 100,
     "metadata": {},
     "output_type": "execute_result"
    }
   ],
   "source": [
    "df = pd.DataFrame(hurdata, columns= ['Storm Number','Storm Name','Storm Status','Lat','Lon','Time', 'Max Speed'])\n",
    "df.head()"
   ]
  },
  {
   "cell_type": "code",
   "execution_count": 83,
   "metadata": {},
   "outputs": [],
   "source": [
    "plot_crs = ccrs.LambertConformal(central_longitude =-100., central_latitude = 45)\n",
    "data_crs = ccrs.PlateCarree()"
   ]
  },
  {
   "cell_type": "code",
   "execution_count": 84,
   "metadata": {},
   "outputs": [
    {
     "name": "stderr",
     "output_type": "stream",
     "text": [
      "/home/pchilton/anaconda3/lib/python3.8/site-packages/cartopy/mpl/style.py:90: UserWarning: facecolor will have no effect as it has been defined as \"never\".\n",
      "  warnings.warn('facecolor will have no effect as it has been '\n"
     ]
    },
    {
     "data": {
      "image/png": "[encoded data removed]",
      "text/plain": [
       "<Figure size 432x432 with 1 Axes>"
      ]
     },
     "metadata": {
      "needs_background": "light"
     },
     "output_type": "display_data"
    }
   ],
   "source": [
    "fig = plt.figure(figsize = (6,6))\n",
    "ax = plt.subplot(1,1,1,projection = plot_crs)\n",
    "\n",
    "ax.set_extent([-90,-75,28,42],data_crs)\n",
    "ax.coastlines('50m', edgecolor = 'k', linewidth = 0.75)\n",
    "ax.add_feature(cfeature.STATES, linewidth = 0.5)\n",
    "ax.add_feature(cfeature.RIVERS, linewidth = 0.85, color = \"b\")\n",
    "ax.add_feature(cfeature.COASTLINE, linewidth = 0.5)\n",
    "#ax.add_feature(cfeature.OCEAN)\n",
    "#ax.add_feature(cfeature.LAKES, color = 'b')\n",
    "\n",
    "for storm in df['Storm Number'].unique():\n",
    "    storm_data = df[df['Storm Number'] == storm_number]\n",
    "    ax.plot(storm_data['Lon'], storm_data['Lat'], transform = data_crs)"
   ]
  },
  {
   "cell_type": "code",
   "execution_count": 66,
   "metadata": {},
   "outputs": [],
   "source": [
    "for storm in df['Storm Number'].unique():\n",
    "    storm_data = df[df['Storm Number'] == storm_number]\n",
    "    ax.plot(storm_data['Lon'], storm_data['Lat'], transform = data_crs)"
   ]
  },
  {
   "cell_type": "code",
   "execution_count": null,
   "metadata": {},
   "outputs": [],
   "source": [
    "#dataframes for csv files \n",
    "# Dont forget to change the file location for when you move the DATA!!!\n",
    "\n",
    "dfbuffer = pd.read_csv('JRBufferPtLatLon.csv', delimiter = ',')\n",
    "dfhurdat = pd.read_csv('hurdatlatlong.csv', delimiter = ',')\n",
    "dfcoast = pd.read_csv('CoastalThresholdLatLon.csv', delimiter = ',')\n",
    "dfbasin = pd.read_csv('JamesBasinPtLatLon.csv', delimiter = ',')"
   ]
  },
  {
   "cell_type": "code",
   "execution_count": null,
   "metadata": {},
   "outputs": [],
   "source": [
    "# producing the polygons for the basin and the 60nmi buffer #\n",
    "#print(bufferpoints)\n",
    "#bufferpoints.plot()\n",
    "#buffershape = Polygon(bufferpoints)\n",
    "#print(dfbuffer['Lon'])\n",
    "#print(dfbuffer['Lat'])\n",
    "bufferpoly = zip(dfbuffer['Lon'],dfbuffer['Lat'])\n",
    "basinpoly = zip(dfbasin['Lon'],dfbasin['Lat'])\n",
    "plt.figure()\n",
    "plt.plot(dfbuffer['Lon'],dfbuffer['Lat']) \n",
    "plt.plot(dfbasin['Lon'],dfbasin['Lat'])\n",
    "plt.show()"
   ]
  },
  {
   "cell_type": "code",
   "execution_count": null,
   "metadata": {},
   "outputs": [
    {
     "data": {
      "text/plain": [
       "<cartopy.mpl.feature_artist.FeatureArtist at 0x7f666a7b6a30>"
      ]
     },
     "execution_count": 30,
     "metadata": {},
     "output_type": "execute_result"
    }
   ],
   "source": [
    "import matplotlib.pyplot as plt\n",
    "from matplotlib import cm\n",
    "import numpy as np\n",
    "import cartopy.crs as ccrs\n",
    "import cartopy.feature as cfeature\n",
    "#MAGIC  - render the figure in the notebook.\n",
    "%matplotlib inline\n",
    "# set coordinate ref. systems\n",
    "plot_crs =ccrs.LambertConformal(central_longitude = -100., central_latitude = 45)\n",
    "data_crs =ccrs.PlateCarree()\n",
    "\n",
    "#figures\n",
    "fig = plt.figure(figsize = (6,6))\n",
    "\n",
    "#axis\n",
    "ax = plt.subplot(1,1,1, projection=plot_crs)\n",
    "#left side,right side, bottom, top is the order below.\n",
    "ax.set_extent([-90, -75, 30, 40], data_crs)\n",
    "\n",
    "\n",
    "#background map\n",
    "ax.stock_img()\n",
    "ax.add_feature(cfeature.STATES, linewidth = 0.5)\n",
    "ax.add_feature(cfeature.RIVERS, linewidth = 0.85, color = \"b\")\n",
    "ax.add_feature(cfeature.COASTLINE, linewidth = 0.5)\n",
    "ax.add_feature(cfeature.OCEAN)\n",
    "ax.add_feature(cfeature.LAKES, color = 'b')"
   ]
  },
  {
   "cell_type": "code",
   "execution_count": null,
   "metadata": {},
   "outputs": [],
   "source": [
    "#for i in range(length_storms):\n",
    "#dummy = np.argwhere(storm_values == storm_index[0])\n",
    "#print(dummy)\n",
    "    "
   ]
  },
  {
   "cell_type": "code",
   "execution_count": null,
   "metadata": {},
   "outputs": [],
   "source": [
    "#df.to_csv('hurdatlatlong.csv')"
   ]
  },
  {
   "cell_type": "code",
   "execution_count": null,
   "metadata": {},
   "outputs": [],
   "source": [
    "with open('hurdatlatlong.csv','r') as hurdat:\n",
    "    with open('coastlatlongV2.csv','r') as coast:\n",
    "        with open('jamesbasinlatlongV2.csv','r')as basin:\n",
    "            with open('bufferlatlongV2.csv', 'r') as buffer:\n",
    "                with open('commonlatlong.txt','w') as newfile:\n",
    "                    for line in hurdat:\n",
    "                        if line == coast and line == basin and line == buffer:\n",
    "                            newfile.write(line)\n",
    "hurdat.close()\n",
    "coast.close()\n",
    "basin.close()\n",
    "buffer.close()\n",
    "newfile.close()\n"
   ]
  },
  {
   "cell_type": "code",
   "execution_count": null,
   "metadata": {},
   "outputs": [],
   "source": [
    "\n"
   ]
  },
  {
   "cell_type": "code",
   "execution_count": null,
   "metadata": {},
   "outputs": [],
   "source": []
  }
 ],
 "metadata": {
  "kernelspec": {
   "display_name": "Python 3",
   "language": "python",
   "name": "python3"
  },
  "language_info": {
   "codemirror_mode": {
    "name": "ipython",
    "version": 3
   },
   "file_extension": ".py",
   "mimetype": "text/x-python",
   "name": "python",
   "nbconvert_exporter": "python",
   "pygments_lexer": "ipython3",
   "version": "3.8.3"
  }
 },
 "nbformat": 4,
 "nbformat_minor": 4
}
