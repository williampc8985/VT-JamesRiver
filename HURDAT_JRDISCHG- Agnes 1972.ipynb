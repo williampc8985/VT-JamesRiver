{
 "cells": [
  {
   "cell_type": "code",
   "execution_count": 2,
   "id": "conceptual-mentor",
   "metadata": {},
   "outputs": [],
   "source": [
    "import pandas as pd"
   ]
  },
  {
   "cell_type": "code",
   "execution_count": 3,
   "id": "metric-roman",
   "metadata": {},
   "outputs": [
    {
     "name": "stderr",
     "output_type": "stream",
     "text": [
      "/Users/williampc/opt/anaconda3/envs/geop/lib/python3.9/site-packages/IPython/core/interactiveshell.py:3165: DtypeWarning: Columns (7) have mixed types.Specify dtype option on import or set low_memory=False.\n",
      "  has_raised = await self.run_ast_nodes(code_ast.body, cell_name,\n"
     ]
    }
   ],
   "source": [
    "#This is the Richmond USGS Data gage\n",
    "river_richmnd = pd.read_csv('JR_Richmond02037500.csv')"
   ]
  },
  {
   "cell_type": "code",
   "execution_count": 4,
   "id": "infrared-relay",
   "metadata": {},
   "outputs": [],
   "source": [
    "river_richmnd.dropna();"
   ]
  },
  {
   "cell_type": "code",
   "execution_count": 5,
   "id": "vietnamese-cookbook",
   "metadata": {},
   "outputs": [],
   "source": [
    "#Hurricane data for the basin - Names of Relevant Storms - This will be used for getting the storms from the larger set\n",
    "JR_stormnames = pd.read_csv('gis_match.csv')\n"
   ]
  },
  {
   "cell_type": "code",
   "execution_count": 7,
   "id": "ideal-soldier",
   "metadata": {},
   "outputs": [
    {
     "data": {
      "text/html": [
       "<div>\n",
       "<style scoped>\n",
       "    .dataframe tbody tr th:only-of-type {\n",
       "        vertical-align: middle;\n",
       "    }\n",
       "\n",
       "    .dataframe tbody tr th {\n",
       "        vertical-align: top;\n",
       "    }\n",
       "\n",
       "    .dataframe thead th {\n",
       "        text-align: right;\n",
       "    }\n",
       "</style>\n",
       "<table border=\"1\" class=\"dataframe\">\n",
       "  <thead>\n",
       "    <tr style=\"text-align: right;\">\n",
       "      <th></th>\n",
       "      <th>Storm Number</th>\n",
       "      <th>Storm Name</th>\n",
       "      <th>Storm Status</th>\n",
       "      <th>Lat</th>\n",
       "      <th>Lon</th>\n",
       "      <th>Time</th>\n",
       "      <th>Maxspeed</th>\n",
       "    </tr>\n",
       "  </thead>\n",
       "  <tbody>\n",
       "    <tr>\n",
       "      <th>0</th>\n",
       "      <td>AL021952</td>\n",
       "      <td>ABLE</td>\n",
       "      <td>TS</td>\n",
       "      <td>36.6</td>\n",
       "      <td>-79.9</td>\n",
       "      <td>9/1/52 0:00</td>\n",
       "      <td>40</td>\n",
       "    </tr>\n",
       "    <tr>\n",
       "      <th>1</th>\n",
       "      <td>AL021952</td>\n",
       "      <td>ABLE</td>\n",
       "      <td>TS</td>\n",
       "      <td>38.1</td>\n",
       "      <td>-78.6</td>\n",
       "      <td>9/1/52 6:00</td>\n",
       "      <td>45</td>\n",
       "    </tr>\n",
       "    <tr>\n",
       "      <th>2</th>\n",
       "      <td>AL021952</td>\n",
       "      <td>ABLE</td>\n",
       "      <td>TS</td>\n",
       "      <td>39.5</td>\n",
       "      <td>-77.1</td>\n",
       "      <td>9/1/52 12:00</td>\n",
       "      <td>50</td>\n",
       "    </tr>\n",
       "    <tr>\n",
       "      <th>3</th>\n",
       "      <td>AL031952</td>\n",
       "      <td>UNNAMED</td>\n",
       "      <td>TD</td>\n",
       "      <td>37.5</td>\n",
       "      <td>-82.3</td>\n",
       "      <td>8/28/52 18:00</td>\n",
       "      <td>20</td>\n",
       "    </tr>\n",
       "    <tr>\n",
       "      <th>4</th>\n",
       "      <td>AL031953</td>\n",
       "      <td>BARBARA</td>\n",
       "      <td>HU</td>\n",
       "      <td>36.1</td>\n",
       "      <td>-75.9</td>\n",
       "      <td>8/14/53 9:00</td>\n",
       "      <td>70</td>\n",
       "    </tr>\n",
       "    <tr>\n",
       "      <th>...</th>\n",
       "      <td>...</td>\n",
       "      <td>...</td>\n",
       "      <td>...</td>\n",
       "      <td>...</td>\n",
       "      <td>...</td>\n",
       "      <td>...</td>\n",
       "      <td>...</td>\n",
       "    </tr>\n",
       "    <tr>\n",
       "      <th>163</th>\n",
       "      <td>AL021972</td>\n",
       "      <td>AGNES</td>\n",
       "      <td>TD</td>\n",
       "      <td>34.4</td>\n",
       "      <td>-79.0</td>\n",
       "      <td>6/21/72 12:00</td>\n",
       "      <td>30</td>\n",
       "    </tr>\n",
       "    <tr>\n",
       "      <th>164</th>\n",
       "      <td>AL021972</td>\n",
       "      <td>AGNES</td>\n",
       "      <td>TS</td>\n",
       "      <td>35.2</td>\n",
       "      <td>-77.6</td>\n",
       "      <td>6/21/72 18:00</td>\n",
       "      <td>40</td>\n",
       "    </tr>\n",
       "    <tr>\n",
       "      <th>165</th>\n",
       "      <td>AL021972</td>\n",
       "      <td>AGNES</td>\n",
       "      <td>TS</td>\n",
       "      <td>35.8</td>\n",
       "      <td>-75.7</td>\n",
       "      <td>6/22/72 0:00</td>\n",
       "      <td>45</td>\n",
       "    </tr>\n",
       "    <tr>\n",
       "      <th>166</th>\n",
       "      <td>AL021972</td>\n",
       "      <td>AGNES</td>\n",
       "      <td>TS</td>\n",
       "      <td>36.9</td>\n",
       "      <td>-74.3</td>\n",
       "      <td>6/22/72 6:00</td>\n",
       "      <td>50</td>\n",
       "    </tr>\n",
       "    <tr>\n",
       "      <th>167</th>\n",
       "      <td>AL021972</td>\n",
       "      <td>AGNES</td>\n",
       "      <td>TS</td>\n",
       "      <td>38.2</td>\n",
       "      <td>-73.1</td>\n",
       "      <td>6/22/72 12:00</td>\n",
       "      <td>60</td>\n",
       "    </tr>\n",
       "  </tbody>\n",
       "</table>\n",
       "<p>168 rows × 7 columns</p>\n",
       "</div>"
      ],
      "text/plain": [
       "    Storm Number Storm Name Storm Status   Lat   Lon           Time  Maxspeed\n",
       "0       AL021952       ABLE           TS  36.6 -79.9    9/1/52 0:00        40\n",
       "1       AL021952       ABLE           TS  38.1 -78.6    9/1/52 6:00        45\n",
       "2       AL021952       ABLE           TS  39.5 -77.1   9/1/52 12:00        50\n",
       "3       AL031952    UNNAMED           TD  37.5 -82.3  8/28/52 18:00        20\n",
       "4       AL031953    BARBARA           HU  36.1 -75.9   8/14/53 9:00        70\n",
       "..           ...        ...          ...   ...   ...            ...       ...\n",
       "163     AL021972      AGNES           TD  34.4 -79.0  6/21/72 12:00        30\n",
       "164     AL021972      AGNES           TS  35.2 -77.6  6/21/72 18:00        40\n",
       "165     AL021972      AGNES           TS  35.8 -75.7   6/22/72 0:00        45\n",
       "166     AL021972      AGNES           TS  36.9 -74.3   6/22/72 6:00        50\n",
       "167     AL021972      AGNES           TS  38.2 -73.1  6/22/72 12:00        60\n",
       "\n",
       "[168 rows x 7 columns]"
      ]
     },
     "execution_count": 7,
     "metadata": {},
     "output_type": "execute_result"
    }
   ],
   "source": [
    "# Bring in the Big HURDAT data, from 1950 forward (satellites and data quality, etc.)\n",
    "HURDAT = pd.read_csv('hurdatcleanva_1950_present.csv')\n",
    "HURDAT\n"
   ]
  },
  {
   "cell_type": "code",
   "execution_count": 9,
   "id": "static-ultimate",
   "metadata": {},
   "outputs": [],
   "source": [
    "VA_JR_stormmatch = JR_stormnames.merge(HURDAT)\n"
   ]
  },
  {
   "cell_type": "code",
   "execution_count": 10,
   "id": "double-uncle",
   "metadata": {},
   "outputs": [],
   "source": [
    "# Now the common storms for the James Basin have been created. We now have time and storms together for the basin\n",
    "#checking some things about the data"
   ]
  },
  {
   "cell_type": "code",
   "execution_count": 11,
   "id": "massive-august",
   "metadata": {},
   "outputs": [],
   "source": [
    "# How many unique storms within the basin since 1950? 62 here and 53 in the Data on the Coast.NOAA.gov's website. \n",
    "#I think we are close enough here, digging may show some other storms, but I think we have at least captured the ones \n",
    "#from NOAA\n",
    "len(VA_JR_stormmatch['Storm Number'].unique());"
   ]
  },
  {
   "cell_type": "code",
   "execution_count": 12,
   "id": "shaped-smoke",
   "metadata": {},
   "outputs": [
    {
     "name": "stdout",
     "output_type": "stream",
     "text": [
      "32.2 -83.8 39.9 -73.1\n"
     ]
    }
   ],
   "source": [
    "#double ck the lat and long parameters\n",
    "print(VA_JR_stormmatch['Lat'].min(),\n",
    "VA_JR_stormmatch['Lon'].min(),\n",
    "VA_JR_stormmatch['Lat'].max(),\n",
    "VA_JR_stormmatch['Lon'].max())"
   ]
  },
  {
   "cell_type": "code",
   "execution_count": 13,
   "id": "wrong-tragedy",
   "metadata": {},
   "outputs": [],
   "source": [
    "#Make a csv of this data\n",
    "VA_JR_stormmatch.to_csv('storms_in_basin.csv', sep=',',encoding = 'utf-8')"
   ]
  },
  {
   "cell_type": "code",
   "execution_count": 14,
   "id": "multiple-transfer",
   "metadata": {},
   "outputs": [],
   "source": [
    "#names of storms \n",
    "len(VA_JR_stormmatch['Storm Number'].unique())\n",
    "VA_JR_stormmatch['Storm Number'].unique()\n",
    "numbers = VA_JR_stormmatch['Storm Number']"
   ]
  },
  {
   "cell_type": "code",
   "execution_count": 15,
   "id": "cooked-translation",
   "metadata": {
    "scrolled": true
   },
   "outputs": [
    {
     "data": {
      "text/html": [
       "<div>\n",
       "<style scoped>\n",
       "    .dataframe tbody tr th:only-of-type {\n",
       "        vertical-align: middle;\n",
       "    }\n",
       "\n",
       "    .dataframe tbody tr th {\n",
       "        vertical-align: top;\n",
       "    }\n",
       "\n",
       "    .dataframe thead th {\n",
       "        text-align: right;\n",
       "    }\n",
       "</style>\n",
       "<table border=\"1\" class=\"dataframe\">\n",
       "  <thead>\n",
       "    <tr style=\"text-align: right;\">\n",
       "      <th></th>\n",
       "      <th>Storm Name</th>\n",
       "      <th>Storm Number</th>\n",
       "      <th>Storm Status</th>\n",
       "      <th>Lat</th>\n",
       "      <th>Lon</th>\n",
       "      <th>Time</th>\n",
       "      <th>Maxspeed</th>\n",
       "    </tr>\n",
       "  </thead>\n",
       "  <tbody>\n",
       "    <tr>\n",
       "      <th>254</th>\n",
       "      <td>AGNES</td>\n",
       "      <td>AL021972</td>\n",
       "      <td>TD</td>\n",
       "      <td>32.2</td>\n",
       "      <td>-83.8</td>\n",
       "      <td>6/20/72 12:00</td>\n",
       "      <td>30</td>\n",
       "    </tr>\n",
       "    <tr>\n",
       "      <th>255</th>\n",
       "      <td>AGNES</td>\n",
       "      <td>AL021972</td>\n",
       "      <td>TD</td>\n",
       "      <td>32.9</td>\n",
       "      <td>-82.8</td>\n",
       "      <td>6/20/72 18:00</td>\n",
       "      <td>30</td>\n",
       "    </tr>\n",
       "    <tr>\n",
       "      <th>256</th>\n",
       "      <td>AGNES</td>\n",
       "      <td>AL021972</td>\n",
       "      <td>TD</td>\n",
       "      <td>33.5</td>\n",
       "      <td>-81.7</td>\n",
       "      <td>6/21/72 0:00</td>\n",
       "      <td>30</td>\n",
       "    </tr>\n",
       "    <tr>\n",
       "      <th>257</th>\n",
       "      <td>AGNES</td>\n",
       "      <td>AL021972</td>\n",
       "      <td>TD</td>\n",
       "      <td>33.8</td>\n",
       "      <td>-80.2</td>\n",
       "      <td>6/21/72 6:00</td>\n",
       "      <td>30</td>\n",
       "    </tr>\n",
       "    <tr>\n",
       "      <th>258</th>\n",
       "      <td>AGNES</td>\n",
       "      <td>AL021972</td>\n",
       "      <td>TD</td>\n",
       "      <td>34.4</td>\n",
       "      <td>-79.0</td>\n",
       "      <td>6/21/72 12:00</td>\n",
       "      <td>30</td>\n",
       "    </tr>\n",
       "    <tr>\n",
       "      <th>259</th>\n",
       "      <td>AGNES</td>\n",
       "      <td>AL021972</td>\n",
       "      <td>TS</td>\n",
       "      <td>35.2</td>\n",
       "      <td>-77.6</td>\n",
       "      <td>6/21/72 18:00</td>\n",
       "      <td>40</td>\n",
       "    </tr>\n",
       "    <tr>\n",
       "      <th>260</th>\n",
       "      <td>AGNES</td>\n",
       "      <td>AL021972</td>\n",
       "      <td>TS</td>\n",
       "      <td>35.8</td>\n",
       "      <td>-75.7</td>\n",
       "      <td>6/22/72 0:00</td>\n",
       "      <td>45</td>\n",
       "    </tr>\n",
       "    <tr>\n",
       "      <th>261</th>\n",
       "      <td>AGNES</td>\n",
       "      <td>AL021972</td>\n",
       "      <td>TS</td>\n",
       "      <td>36.9</td>\n",
       "      <td>-74.3</td>\n",
       "      <td>6/22/72 6:00</td>\n",
       "      <td>50</td>\n",
       "    </tr>\n",
       "    <tr>\n",
       "      <th>262</th>\n",
       "      <td>AGNES</td>\n",
       "      <td>AL021972</td>\n",
       "      <td>TS</td>\n",
       "      <td>38.2</td>\n",
       "      <td>-73.1</td>\n",
       "      <td>6/22/72 12:00</td>\n",
       "      <td>60</td>\n",
       "    </tr>\n",
       "  </tbody>\n",
       "</table>\n",
       "</div>"
      ],
      "text/plain": [
       "    Storm Name Storm Number Storm Status   Lat   Lon           Time  Maxspeed\n",
       "254      AGNES     AL021972           TD  32.2 -83.8  6/20/72 12:00        30\n",
       "255      AGNES     AL021972           TD  32.9 -82.8  6/20/72 18:00        30\n",
       "256      AGNES     AL021972           TD  33.5 -81.7   6/21/72 0:00        30\n",
       "257      AGNES     AL021972           TD  33.8 -80.2   6/21/72 6:00        30\n",
       "258      AGNES     AL021972           TD  34.4 -79.0  6/21/72 12:00        30\n",
       "259      AGNES     AL021972           TS  35.2 -77.6  6/21/72 18:00        40\n",
       "260      AGNES     AL021972           TS  35.8 -75.7   6/22/72 0:00        45\n",
       "261      AGNES     AL021972           TS  36.9 -74.3   6/22/72 6:00        50\n",
       "262      AGNES     AL021972           TS  38.2 -73.1  6/22/72 12:00        60"
      ]
     },
     "execution_count": 15,
     "metadata": {},
     "output_type": "execute_result"
    }
   ],
   "source": [
    "#grab a storm from this list and lok at the times\n",
    "#Bill = pd.DataFrame(VA_JR_stormmatch['Storm Number'=='AL032003'])\n",
    "\n",
    "storm = VA_JR_stormmatch[(VA_JR_stormmatch[\"Storm Number\"] == 'AL021972')]\n",
    "storm\n",
    "#so this is the data for a storm named Bill that had a pth through the basin * BILL WAS A BACKDOOR Storm\n",
    "\n"
   ]
  },
  {
   "cell_type": "code",
   "execution_count": 18,
   "id": "cardiovascular-reggae",
   "metadata": {
    "scrolled": false
   },
   "outputs": [
    {
     "data": {
      "image/png": "[encoded data removed]",
      "text/plain": [
       "<Figure size 1440x720 with 1 Axes>"
      ]
     },
     "metadata": {},
     "output_type": "display_data"
    }
   ],
   "source": [
    "# plotting for the USGS river Gage data \n",
    "import matplotlib\n",
    "import matplotlib.pyplot as plt\n",
    "from climata.usgs import DailyValueIO\n",
    "from datetime import datetime\n",
    "from pandas.plotting import register_matplotlib_converters\n",
    "import numpy as np\n",
    "\n",
    "register_matplotlib_converters()\n",
    "plt.style.use('ggplot')\n",
    "plt.rcParams['figure.figsize'] = (20.0, 10.0)\n",
    "# set parameters\n",
    "nyears = 1\n",
    "ndays = 365 * nyears\n",
    "station_id = \"02037500\"\n",
    "param_id = \"00060\"\n",
    "\n",
    "datelist = pd.date_range(end=datetime.today(), periods=ndays).tolist()\n",
    "#take an annual average for the river\n",
    "annual_data = DailyValueIO(\n",
    "    start_date=\"1972-01-01\",\n",
    "    end_date=\"1973-01-01\",\n",
    "    station=station_id,\n",
    "    parameter=param_id,)\n",
    "for series in annual_data:\n",
    "    flow = [r[1] for r in series.data]\n",
    "    si_flow_annual = np.asarray(flow) * 0.0283168\n",
    "    flow_mean = np.mean(si_flow_annual)\n",
    "\n",
    "#now for the storm     \n",
    "dischg = DailyValueIO(\n",
    "    start_date=\"1972-06-18\",\n",
    "    end_date=\"1972-06-28\",\n",
    "    station=station_id,\n",
    "    parameter=param_id,)\n",
    "#create lists of date-flow values\n",
    "for series in dischg:\n",
    "    flow = [r[1] for r in series.data]\n",
    "    si_flow = np.asarray(flow) * 0.0283168\n",
    "    dates = [r[0] for r in series.data]\n",
    "plt.plot(dates, si_flow)\n",
    "plt.axhline(y=flow_mean, color='r', linestyle='-')\n",
    "plt.xlabel('Date')\n",
    "plt.ylabel('Discharge (m^3/s)')\n",
    "plt.title(\"TS Agnes - 1979 (Gulf/Atlantic)\")\n",
    "plt.xticks(rotation='vertical')\n",
    "plt.show()"
   ]
  },
  {
   "cell_type": "code",
   "execution_count": 20,
   "id": "composite-stomach",
   "metadata": {},
   "outputs": [
    {
     "data": {
      "text/plain": [
       "8381.7728"
      ]
     },
     "execution_count": 20,
     "metadata": {},
     "output_type": "execute_result"
    }
   ],
   "source": [
    "max(si_flow)"
   ]
  },
  {
   "cell_type": "code",
   "execution_count": 21,
   "id": "material-firewall",
   "metadata": {},
   "outputs": [
    {
     "data": {
      "text/plain": [
       "2015.8382074819401"
      ]
     },
     "execution_count": 21,
     "metadata": {},
     "output_type": "execute_result"
    }
   ],
   "source": [
    "percent_incr= (abs(max(si_flow)-flow_mean)/abs(flow_mean))*100\n",
    "percent_incr"
   ]
  },
  {
   "cell_type": "code",
   "execution_count": 22,
   "id": "spoken-baptist",
   "metadata": {},
   "outputs": [
    {
     "name": "stdout",
     "output_type": "stream",
     "text": [
      "96.75539956230904\n"
     ]
    }
   ],
   "source": [
    "#take an annual average for the river\n",
    "annual_data = DailyValueIO(\n",
    "    start_date=\"1989-03-01\",\n",
    "    end_date=\"1989-10-01\",\n",
    "    station=station_id,\n",
    "    parameter=param_id,)\n",
    "for series in annual_data:\n",
    "    flow = [r[1] for r in series.data]\n",
    "    si_flow_annual = np.asarray(flow) * 0.0283168\n",
    "    flow_mean_season = np.mean(si_flow_annual)\n",
    "print(abs(flow_mean-flow_mean_season))"
   ]
  },
  {
   "cell_type": "code",
   "execution_count": 23,
   "id": "paperback-graph",
   "metadata": {},
   "outputs": [
    {
     "name": "stdout",
     "output_type": "stream",
     "text": [
      "396.1443162506812\n",
      "299.38891668837215\n"
     ]
    }
   ],
   "source": [
    "print(flow_mean)\n",
    "print(flow_mean_season)"
   ]
  },
  {
   "cell_type": "code",
   "execution_count": null,
   "id": "fancy-parish",
   "metadata": {},
   "outputs": [],
   "source": []
  }
 ],
 "metadata": {
  "kernelspec": {
   "display_name": "Python 3",
   "language": "python",
   "name": "python3"
  },
  "language_info": {
   "codemirror_mode": {
    "name": "ipython",
    "version": 3
   },
   "file_extension": ".py",
   "mimetype": "text/x-python",
   "name": "python",
   "nbconvert_exporter": "python",
   "pygments_lexer": "ipython3",
   "version": "3.9.2"
  }
 },
 "nbformat": 4,
 "nbformat_minor": 5
}
