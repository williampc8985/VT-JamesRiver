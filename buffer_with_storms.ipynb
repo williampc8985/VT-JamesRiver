{
 "cells": [
  {
   "cell_type": "code",
   "execution_count": 1,
   "metadata": {},
   "outputs": [],
   "source": [
    "#mapping some polygons - \n",
    "import pandas as pd\n",
    "import geopandas as gpd\n",
    "from shapely.geometry.polygon import Polygon\n",
    "import cartopy.crs as ccrs\n",
    "import cartopy.feature as cfeature\n",
    "import matplotlib.pyplot as plt\n",
    "from matplotlib import cm\n",
    "import folium\n",
    "import numpy as np\n",
    "%matplotlib inline"
   ]
  },
  {
   "cell_type": "code",
   "execution_count": 2,
   "metadata": {},
   "outputs": [],
   "source": [
    "import pandas as pd\n",
    "from datetime import datetime\n",
    "def lat_lon_to_float (v):\n",
    "    \"\"\"Convert strings from NHC to float locations\"\"\"\n",
    "    if (v[-1] == 'S') or (v[-1] == 'W'):\n",
    "        multiplier = -1\n",
    "    else:\n",
    "        multiplier = 1\n",
    "    return float(v[:-1])*multiplier"
   ]
  },
  {
   "cell_type": "code",
   "execution_count": 3,
   "metadata": {},
   "outputs": [],
   "source": [
    "hurdata = []\n",
    "with open ('hurdat2.txt', 'r') as f:\n",
    "    for line in f.readlines():\n",
    "        if line.startswith('AL'):\n",
    "            storm_id = line.split(',')\n",
    "            storm_number = storm_id[0].strip()\n",
    "            storm_name = storm_id[1].strip()\n",
    "        else:\n",
    "            location_line = line.split(',')\n",
    "            dt = datetime.strptime(location_line[0] + location_line[1],\"%Y%m%d %H%M\")\n",
    "            storm_status = location_line[3].strip()\n",
    "            storm_lat = lat_lon_to_float(location_line[4].strip())\n",
    "            storm_lon = lat_lon_to_float(location_line[5].strip())\n",
    "            max_speed = float(location_line[6].strip())\n",
    "            hurdata.append([storm_number,storm_name,storm_status,storm_lat,storm_lon,dt,max_speed])"
   ]
  },
  {
   "cell_type": "code",
   "execution_count": 4,
   "metadata": {},
   "outputs": [],
   "source": [
    "df = pd.DataFrame(hurdata, columns = ['Storm Number','Storm Name', 'Storm Status', 'Lat', 'Lon','Time', 'Max Speed'])"
   ]
  },
  {
   "cell_type": "code",
   "execution_count": 6,
   "metadata": {},
   "outputs": [],
   "source": [
    "#dataframes for csv files - Buffers\n",
    "dfbuffer = pd.read_csv('bufferlatlongV2.csv', delimiter = ',').astype(float)\n",
    "#going to leave the HURDAT data out of this portion, I'm making polygons here.\n",
    "#dfhurdat = pd.read_csv('/home/pchilton/work/CSVDATA/hurdatlatlong.csv', delimiter = ',').astype(float)\n",
    "dfcoast = pd.read_csv('coastlatlongV2.csv', delimiter = ',').astype(float)\n",
    "dfbasin = pd.read_csv('jamesbasinlatlongV2.csv', delimiter = ',').astype(float)"
   ]
  },
  {
   "cell_type": "code",
   "execution_count": 7,
   "metadata": {},
   "outputs": [
    {
     "name": "stderr",
     "output_type": "stream",
     "text": [
      "/Users/williampc/opt/anaconda3/envs/geop/lib/python3.9/site-packages/pyproj/crs/crs.py:53: FutureWarning: '+init=<authority>:<code>' syntax is deprecated. '<authority>:<code>' is the preferred initialization method. When making the change, be mindful of axis order changes: https://pyproj4.github.io/pyproj/stable/gotchas.html#axis-order-changes-in-proj-6\n",
      "  return _prepare_from_string(\" \".join(pjargs))\n"
     ]
    }
   ],
   "source": [
    "#create the polygons\n",
    "buffer_geom =Polygon(zip(dfbuffer['Lon'],dfbuffer['Lat']))\n",
    "basin_geom = Polygon(zip(dfbasin['Lon'],dfbasin['Lat']))\n",
    "crs = {'init' : 'epsg:4326'}\n",
    "bufferpoly = gpd.GeoDataFrame(index = [0], crs = crs, geometry = [buffer_geom])\n",
    "bufferpoly.to_file(filename = 'buffer.geojson', driver = 'GeoJSON')\n",
    "basinpoly = gpd.GeoDataFrame(index = [0], crs = crs, geometry = [basin_geom])\n",
    "basinpoly.to_file(filename = 'basin.geojson', driver = 'GeoJSON')"
   ]
  },
  {
   "cell_type": "code",
   "execution_count": 8,
   "metadata": {},
   "outputs": [],
   "source": [
    "# total map with all storms and bufers\n",
    "import matplotlib.pyplot as plt\n",
    "import cartopy.crs as ccrs\n",
    "import cartopy.feature as cfeature"
   ]
  },
  {
   "cell_type": "code",
   "execution_count": 9,
   "metadata": {},
   "outputs": [],
   "source": [
    "plot_crs = ccrs.LambertConformal(central_longitude =-100., central_latitude = 45)\n",
    "data_crs = ccrs.PlateCarree()"
   ]
  },
  {
   "cell_type": "code",
   "execution_count": null,
   "metadata": {},
   "outputs": [
    {
     "data": {
      "text/plain": [
       "<cartopy.mpl.feature_artist.FeatureArtist at 0x1b3941fa0>"
      ]
     },
     "execution_count": 12,
     "metadata": {},
     "output_type": "execute_result"
    }
   ],
   "source": [
    "import matplotlib.patches as mpatches\n",
    "import matplotlib.pyplot as plt\n",
    "import shapely.geometry as sgeom\n",
    "import cartopy.crs as ccrs\n",
    "import cartopy.io.shapereader as shpreader\n",
    "\n",
    "def basincoords():\n",
    "    \"\"\"\n",
    "    Return a list of latitudes and a list of longitudes (lons, lats)\n",
    "    for James River Basin \n",
    "\n",
    "    \"\"\"\n",
    "    basinlon = dfbasin['Lon']\n",
    "    basinlat = dfbasin['Lat']\n",
    "\n",
    "    return basinlon, basinlat\n",
    "\n",
    "def buffercoords():\n",
    "    \"\"\"\n",
    "    Return a list of latitudes and a list of longitudes (lons, lats)\n",
    "    for James River Basin \n",
    "\n",
    "    \"\"\"\n",
    "    bufferlon = dfbuffer['Lon']\n",
    "    bufferlat = dfbuffer['Lat']\n",
    "\n",
    "    return bufferlon, bufferlat\n",
    "bufferlon, bufferlat = buffercoords()\n",
    "basinlon, basinlat = basincoords()\n",
    "\n",
    "#ax.set_title('James River Basin and Buffer - Virginia, USA')\n",
    "\n",
    "# turn the lons and lats into a shapely LineString\n",
    "buffer = sgeom.LineString(zip(bufferlon, bufferlat))\n",
    "basin = sgeom.LineString(zip(basinlon, basinlat))\n",
    "\n",
    "\n",
    "fig = plt.figure(figsize = (7,7))\n",
    "ax = plt.subplot(1,1,1,projection = plot_crs)\n",
    "\n",
    "ax.set_extent([-85,-70,32,40],data_crs)\n",
    "ax.coastlines('50m', edgecolor = 'k', linewidth = 0.75)\n",
    "ax.add_feature(cfeature.STATES, linewidth = 0.5)\n",
    "ax.add_feature(cfeature.RIVERS, linewidth = 0.85)\n",
    "ax.add_feature(cfeature.OCEAN)\n",
    "ax.add_geometries([buffer], ccrs.PlateCarree(),facecolor='#C8A2C8', alpha=0.5)\n",
    "ax.add_geometries([basin], ccrs.PlateCarree(),facecolor='rgb', edgecolor='k')\n",
    "\n",
    "\n",
    "\n",
    "#for storm_number in df['Storm Number'].unique():\n",
    " #   storm_data = df[df['Storm Number'] == storm_number]\n",
    "  #  ax.plot(storm_data['Lon'], storm_data['Lat'],dfbuffer['Lon'],dfbuffer['Lat'],dfbasin['Lat'],dfbasin['Lon'], transform = data_crs)"
   ]
  },
  {
   "cell_type": "code",
   "execution_count": null,
   "metadata": {},
   "outputs": [],
   "source": []
  }
 ],
 "metadata": {
  "kernelspec": {
   "display_name": "Python 3",
   "language": "python",
   "name": "python3"
  },
  "language_info": {
   "codemirror_mode": {
    "name": "ipython",
    "version": 3
   },
   "file_extension": ".py",
   "mimetype": "text/x-python",
   "name": "python",
   "nbconvert_exporter": "python",
   "pygments_lexer": "ipython3",
   "version": "3.9.2"
  }
 },
 "nbformat": 4,
 "nbformat_minor": 4
}
