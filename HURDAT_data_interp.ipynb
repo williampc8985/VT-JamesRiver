{
 "cells": [
  {
   "cell_type": "code",
   "execution_count": null,
   "metadata": {},
   "outputs": [],
   "source": [
    "import numpy as np\n",
    "import scipy as sp\n",
    "import scipy.interpolate\n",
    "import matplotlib.pyplot as plt\n",
    "import pandas as pd\n",
    "from datetime import datetime\n",
    "def lat_lon_to_float (v):\n",
    "    \"\"\"Convert strings from NHC to float locations\"\"\"\n",
    "    if (v[-1] == 'S') or (v[-1] == 'W'):\n",
    "        multiplier = -1\n",
    "    else:\n",
    "        multiplier = 1\n",
    "    return float(v[:-1])*multiplier"
   ]
  },
  {
   "cell_type": "code",
   "execution_count": null,
   "metadata": {},
   "outputs": [],
   "source": [
    "hurdata = []\n",
    "with open ('hurdat2.txt', 'r') as f:\n",
    "    for line in f.readlines():\n",
    "        if line.startswith('AL'):\n",
    "            storm_id = line.split(',')\n",
    "            storm_number = storm_id[0].strip()\n",
    "            storm_name = storm_id[1].strip()\n",
    "        else:\n",
    "            location_line = line.split(',')\n",
    "            dt = datetime.strptime(location_line[0] + location_line[1],\"%Y%m%d %H%M\")\n",
    "            storm_status = location_line[3].strip()\n",
    "            storm_lat = lat_lon_to_float(location_line[4].strip())\n",
    "            storm_lon = lat_lon_to_float(location_line[5].strip())\n",
    "            maxspeed = float(location_line[6].strip())\n",
    "            hurdata.append([storm_number,storm_name,storm_status,storm_lat,storm_lon,dt,maxspeed])\n"
   ]
  },
  {
   "cell_type": "code",
   "execution_count": null,
   "metadata": {},
   "outputs": [],
   "source": [
    "df = pd.DataFrame(hurdata, columns = ['Storm Number','Storm Name', 'Storm Status', 'Lat', 'Lon','Time', 'Maxspeed'])\n",
    "df.head()\n",
    "len(df)"
   ]
  },
  {
   "cell_type": "code",
   "execution_count": null,
   "metadata": {},
   "outputs": [],
   "source": [
    "# # Generate some random data\n",
    "# y = (df['Lon'])\n",
    "# x = (df['Lat'])\n",
    "\n",
    "# # Interpolate the data using a cubic spline to \"new_length\" samples\n",
    "# new_len = 1000\n",
    "# new_x = np.linspace(x.min(), x.max(), new_len)\n",
    "# new_y = sp.interpolate.interp1d(x, y, kind='cubic')(new_x)\n",
    "\n",
    "# # Plot the results\n",
    "# plt.figure()\n",
    "# plt.subplot(2,1,1)\n",
    "# plt.plot(x, y, 'bo-')\n",
    "# plt.title('Using 1D Cubic Spline Interpolation')\n",
    "\n",
    "# plt.subplot(2,1,2)\n",
    "# plt.plot(new_x, new_y, 'ro-')\n",
    "\n",
    "# plt.show()"
   ]
  },
  {
   "cell_type": "code",
   "execution_count": null,
   "metadata": {},
   "outputs": [],
   "source": [
    "import pandas as pd\n",
    "import numpy as np\n",
    "import matplotlib.pyplot as plt\n",
    "%matplotlib inline"
   ]
  },
  {
   "cell_type": "code",
   "execution_count": null,
   "metadata": {},
   "outputs": [],
   "source": [
    "#getting rid of all the path portions in the ocean, no need to keep all that extra data.\n",
    "df.drop(df.loc[df['Lon']>=-75].index, inplace=True)\n",
    "df.drop(df.loc[df['Lon']<=-84].index, inplace=True)\n",
    "df.drop(df.loc[df['Lat']<= 36].index, inplace=True)\n",
    "df.drop(df.loc[df['Lat']>= 40].index, inplace=True)"
   ]
  },
  {
   "cell_type": "code",
   "execution_count": null,
   "metadata": {},
   "outputs": [],
   "source": [
    "df.head()"
   ]
  },
  {
   "cell_type": "code",
   "execution_count": null,
   "metadata": {},
   "outputs": [],
   "source": [
    "len(df)"
   ]
  },
  {
   "cell_type": "code",
   "execution_count": null,
   "metadata": {},
   "outputs": [],
   "source": [
    "#\n",
    "df.to_csv (r'hurdatcleanva.csv', index = False, header=True)"
   ]
  },
  {
   "cell_type": "code",
   "execution_count": null,
   "metadata": {},
   "outputs": [],
   "source": [
    "for storm in df['Storm Number'].unique():\n",
    "    storm_name = df['Storm Name']\n",
    "    time = df['Time']\n",
    "    x = df['Lon']\n",
    "    y = df['Lat']\n",
    "    length = 250\n",
    "    new_x = new_x = np.linspace(x.min(), x.max(), length)\n",
    "    new_y = sp.interpolate.interp1d(x, y, kind='cubic')(new_x)\n",
    "    df.append(new_x,new_y)"
   ]
  },
  {
   "cell_type": "code",
   "execution_count": null,
   "metadata": {},
   "outputs": [],
   "source": []
  }
 ],
 "metadata": {
  "kernelspec": {
   "display_name": "Python 3",
   "language": "python",
   "name": "python3"
  },
  "language_info": {
   "codemirror_mode": {
    "name": "ipython",
    "version": 3
   },
   "file_extension": ".py",
   "mimetype": "text/x-python",
   "name": "python",
   "nbconvert_exporter": "python",
   "pygments_lexer": "ipython3",
   "version": "3.9.2"
  }
 },
 "nbformat": 4,
 "nbformat_minor": 4
}
