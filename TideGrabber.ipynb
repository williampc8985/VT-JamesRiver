{
 "cells": [
  {
   "cell_type": "code",
   "execution_count": 84,
   "id": "transsexual-begin",
   "metadata": {},
   "outputs": [],
   "source": [
    "import numpy as np\n",
    "import matplotlib as mpl\n",
    "import matplotlib.pyplot as plt\n",
    "import matplotlib.dates as mdates\n",
    "import sklearn as sk\n",
    "import pandas as pd\n",
    "import seaborn as sns\n",
    "sns.set_theme(style=\"darkgrid\")"
   ]
  },
  {
   "cell_type": "code",
   "execution_count": 85,
   "id": "modern-framework",
   "metadata": {
    "scrolled": true
   },
   "outputs": [],
   "source": [
    "import noaa_coops as nc\n",
    "sewells= nc.Station(8638610)\n",
    "df_water_levels = sewells.get_data(\n",
    "begin_date=\"19950809\",\n",
    "end_date=\"19950830\",\n",
    "product=\"high_low\",\n",
    "datum=\"NAVD\",\n",
    "units=\"metric\",\n",
    "time_zone=\"gmt\")\n",
    "df = df_water_levels.head()  # doctest: +NORMALIZE_WHITESPACE"
   ]
  },
  {
   "cell_type": "code",
   "execution_count": 86,
   "id": "copyrighted-green",
   "metadata": {},
   "outputs": [
    {
     "name": "stdout",
     "output_type": "stream",
     "text": [
      "Index(['date_time_HH', 'HH_water_level', 'date_time_H', 'H_water_level',\n",
      "       'date_time_L', 'L_water_level', 'date_time_LL', 'LL_water_level'],\n",
      "      dtype='object')\n"
     ]
    }
   ],
   "source": [
    "print(df.columns)"
   ]
  },
  {
   "cell_type": "code",
   "execution_count": 87,
   "id": "previous-bermuda",
   "metadata": {},
   "outputs": [],
   "source": [
    "#df = df.reset_index()"
   ]
  },
  {
   "cell_type": "code",
   "execution_count": 88,
   "id": "natural-aging",
   "metadata": {},
   "outputs": [],
   "source": [
    "#print(df)"
   ]
  },
  {
   "cell_type": "code",
   "execution_count": 91,
   "id": "destroyed-continuity",
   "metadata": {},
   "outputs": [],
   "source": [
    "date_h = df['date_time_H']\n",
    "date_l = df['date_time_L']\n",
    "gauge_h = df['H_water_level']\n",
    "gauge_l =df['L_water_level']\n",
    "date_hh = df['date_time_HH']\n",
    "date_ll = df['date_time_LL']\n",
    "gauge_hh = df['HH_water_level']\n",
    "gauge_ll =df['LL_water_level']\n",
    "\n"
   ]
  },
  {
   "cell_type": "code",
   "execution_count": 95,
   "id": "shaped-marriage",
   "metadata": {},
   "outputs": [
    {
     "data": {
      "text/plain": [
       "Text(0.5, 1.0, 'Tide Level - Sewells Point, VA')"
      ]
     },
     "execution_count": 95,
     "metadata": {},
     "output_type": "execute_result"
    },
    {
     "data": {
      "image/png": "[encoded data removed]",
      "text/plain": [
       "<Figure size 576x396 with 1 Axes>"
      ]
     },
     "metadata": {},
     "output_type": "display_data"
    }
   ],
   "source": [
    "plt.style.use('seaborn')\n",
    "#plt.scatter(date_h,gauge_h)\n",
    "#plt.scatter(date_l,gauge_l)\n",
    "plt.scatter(date_hh,gauge_hh)\n",
    "plt.scatter(date_ll,gauge_ll)\n",
    "import matplotlib.dates as mdates\n",
    "#myFmt = mdates.DateFormatter(\"%m %d %Y %H:%M:%S\")\n",
    "#plt.gca().xaxis.set_major_formatter(myFmt)\n",
    "plt.gcf().autofmt_xdate()\n",
    "plt.gca().xaxis.set_major_locator(mdates.DayLocator(interval=1))\n",
    "plt.xlabel(\"Date & Time\")\n",
    "plt.xticks(rotation=45)\n",
    "plt.ylabel(\"Gauge Level (m)\")\n",
    "plt.title(\"Tide Level - Sewells Point, VA\")\n",
    "\n"
   ]
  },
  {
   "cell_type": "code",
   "execution_count": null,
   "id": "stuck-assist",
   "metadata": {},
   "outputs": [],
   "source": []
  },
  {
   "cell_type": "code",
   "execution_count": null,
   "id": "secure-enlargement",
   "metadata": {},
   "outputs": [],
   "source": []
  }
 ],
 "metadata": {
  "kernelspec": {
   "display_name": "Python 3",
   "language": "python",
   "name": "python3"
  },
  "language_info": {
   "codemirror_mode": {
    "name": "ipython",
    "version": 3
   },
   "file_extension": ".py",
   "mimetype": "text/x-python",
   "name": "python",
   "nbconvert_exporter": "python",
   "pygments_lexer": "ipython3",
   "version": "3.9.2"
  }
 },
 "nbformat": 4,
 "nbformat_minor": 5
}
