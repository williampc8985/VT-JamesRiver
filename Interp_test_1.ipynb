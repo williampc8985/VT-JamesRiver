{
 "cells": [
  {
   "cell_type": "code",
   "execution_count": 1,
   "metadata": {},
   "outputs": [],
   "source": [
    "#mapping some polygons - \n",
    "import pandas as pd\n",
    "import geopandas as gpd\n",
    "from shapely.geometry.polygon import Polygon\n",
    "import cartopy.crs as ccrs\n",
    "import cartopy.feature as cfeature\n",
    "import matplotlib.pyplot as plt\n",
    "from matplotlib import cm\n",
    "import folium\n",
    "import numpy as np\n",
    "import scipy as sp\n",
    "%matplotlib inline"
   ]
  },
  {
   "cell_type": "code",
   "execution_count": 2,
   "metadata": {},
   "outputs": [],
   "source": [
    "import pandas as pd\n",
    "from datetime import datetime\n",
    "def lat_lon_to_float (v):\n",
    "    \"\"\"Convert strings from NHC to float locations\"\"\"\n",
    "    if (v[-1] == 'S') or (v[-1] == 'W'):\n",
    "        multiplier = -1\n",
    "    else:\n",
    "        multiplier = 1\n",
    "    return float(v[:-1])*multiplier"
   ]
  },
  {
   "cell_type": "code",
   "execution_count": 3,
   "metadata": {},
   "outputs": [],
   "source": [
    "hurdata = []\n",
    "with open ('hurdattest.csv', 'r') as f:\n",
    "    for line in f.readlines():\n",
    "        if line.startswith('AL'):\n",
    "            storm_id = line.split(',')\n",
    "            storm_number = storm_id[0].strip()\n",
    "            storm_name = storm_id[1].strip()\n",
    "        else:\n",
    "            location_line = line.split(',')\n",
    "            dt = datetime.strptime(location_line[0] + location_line[1],\"%Y%m%d %H%M\")\n",
    "            storm_status = location_line[3].strip()\n",
    "            storm_lat = lat_lon_to_float(location_line[4].strip())\n",
    "            storm_lon = lat_lon_to_float(location_line[5].strip())\n",
    "            maxspeed = float(location_line[6].strip())\n",
    "            hurdata.append([storm_number,storm_name,storm_status,storm_lat,storm_lon,dt,maxspeed])"
   ]
  },
  {
   "cell_type": "code",
   "execution_count": 4,
   "metadata": {
    "scrolled": false
   },
   "outputs": [],
   "source": [
    "df = pd.DataFrame(hurdata, columns = ['Storm Number','Storm Name', 'Storm Status', 'Lat', 'Lon','Time', 'Maxspeed'])"
   ]
  },
  {
   "cell_type": "code",
   "execution_count": 5,
   "metadata": {},
   "outputs": [
    {
     "data": {
      "text/plain": [
       "31.0"
      ]
     },
     "execution_count": 5,
     "metadata": {},
     "output_type": "execute_result"
    }
   ],
   "source": [
    "df.head()\n",
    "max(df[\"Lat\"])"
   ]
  },
  {
   "cell_type": "code",
   "execution_count": 6,
   "metadata": {
    "scrolled": true
   },
   "outputs": [],
   "source": [
    "# df.head()\n",
    "# orig_lat = df['Lat']#y\n",
    "# orig_lon = df['Lon']#x\n",
    "# new_lon = np.arange(orig_lon.min(),orig_lon.max(),0.005)\n",
    "# new_lat = np.arange(orig_lat.min(),orig_lat.max(),0.005)\n",
    "# lat = np.interp(new_lon,orig_lon,orig_lat)\n",
    "# lon = np.interp(new_lat,orig_lat,orig_lon)\n",
    "# len(lat)\n"
   ]
  },
  {
   "cell_type": "code",
   "execution_count": 7,
   "metadata": {},
   "outputs": [
    {
     "ename": "SyntaxError",
     "evalue": "invalid syntax (<ipython-input-7-03c5240c9202>, line 11)",
     "output_type": "error",
     "traceback": [
      "\u001b[0;36m  File \u001b[0;32m\"<ipython-input-7-03c5240c9202>\"\u001b[0;36m, line \u001b[0;32m11\u001b[0m\n\u001b[0;31m    newlat = x = np.linspace(lat.min(), , num=100 endpoint=True)\u001b[0m\n\u001b[0m                                        ^\u001b[0m\n\u001b[0;31mSyntaxError\u001b[0m\u001b[0;31m:\u001b[0m invalid syntax\n"
     ]
    }
   ],
   "source": [
    "import matplotlib.pyplot as plt\n",
    "from scipy import interpolate\n",
    "from scipy.interpolate import interp1d\n",
    "import numpy as np\n",
    "array = np.array(df)\n",
    "#print(array)\n",
    "lat = array[:,3]\n",
    "lon = array[:,4]\n",
    "#len(value)\n",
    "for row in lat:\n",
    "    newlat = x = np.linspace(lat.min(), , num=100 endpoint=True)\n",
    "    y = np.cos(-x**2/9.0)\n",
    "\n",
    "f = interp1d(x, y)\n",
    "\n",
    "f2 = interp1d(x, y, kind='cubic')\n",
    "\n",
    ">>>\n",
    "\n",
    "xnew = np.linspace(0, 10, num=41, endpoint=True)\n",
    "\n",
    "import matplotlib.pyplot as plt\n",
    "\n",
    "plt.plot(x, y, 'o', xnew, f(xnew), '-', xnew, f2(xnew), '--')\n",
    "\n",
    "plt.legend(['data', 'linear', 'cubic'], loc='best')\n",
    "\n",
    "plt.show()\n",
    "#print(value)\n"
   ]
  },
  {
   "cell_type": "code",
   "execution_count": 8,
   "metadata": {},
   "outputs": [],
   "source": [
    "import xarray as xr\n",
    "import numpy as np\n",
    "from scipy import interpolate\n",
    "import matplotlib.pyplot as plt\n"
   ]
  },
  {
   "cell_type": "code",
   "execution_count": 9,
   "metadata": {},
   "outputs": [
    {
     "name": "stdout",
     "output_type": "stream",
     "text": [
      "[['AL011851' 'UNNAMED' 'HU' 28.0 -94.8 Timestamp('1851-06-25 00:00:00')\n",
      "  80.0]\n",
      " ['AL011851' 'UNNAMED' 'HU' 28.0 -95.4 Timestamp('1851-06-25 06:00:00')\n",
      "  80.0]\n",
      " ['AL011851' 'UNNAMED' 'HU' 28.0 -96.0 Timestamp('1851-06-25 12:00:00')\n",
      "  80.0]\n",
      " ['AL011851' 'UNNAMED' 'HU' 28.1 -96.5 Timestamp('1851-06-25 18:00:00')\n",
      "  80.0]\n",
      " ['AL011851' 'UNNAMED' 'HU' 28.2 -96.8 Timestamp('1851-06-25 21:00:00')\n",
      "  80.0]\n",
      " ['AL011851' 'UNNAMED' 'HU' 28.2 -97.0 Timestamp('1851-06-26 00:00:00')\n",
      "  70.0]\n",
      " ['AL011851' 'UNNAMED' 'TS' 28.3 -97.6 Timestamp('1851-06-26 06:00:00')\n",
      "  60.0]\n",
      " ['AL011851' 'UNNAMED' 'TS' 28.4 -98.3 Timestamp('1851-06-26 12:00:00')\n",
      "  60.0]\n",
      " ['AL011851' 'UNNAMED' 'TS' 28.6 -98.9 Timestamp('1851-06-26 18:00:00')\n",
      "  50.0]\n",
      " ['AL011851' 'UNNAMED' 'TS' 29.0 -99.4 Timestamp('1851-06-27 00:00:00')\n",
      "  50.0]\n",
      " ['AL011851' 'UNNAMED' 'TS' 29.5 -99.8 Timestamp('1851-06-27 06:00:00')\n",
      "  40.0]\n",
      " ['AL011851' 'UNNAMED' 'TS' 30.0 -100.0 Timestamp('1851-06-27 12:00:00')\n",
      "  40.0]\n",
      " ['AL011851' 'UNNAMED' 'TS' 30.5 -100.1 Timestamp('1851-06-27 18:00:00')\n",
      "  40.0]\n",
      " ['AL011851' 'UNNAMED' 'TS' 31.0 -100.2 Timestamp('1851-06-28 00:00:00')\n",
      "  40.0]]\n"
     ]
    },
    {
     "ename": "NameError",
     "evalue": "name 'ax' is not defined",
     "output_type": "error",
     "traceback": [
      "\u001b[0;31m---------------------------------------------------------------------------\u001b[0m",
      "\u001b[0;31mNameError\u001b[0m                                 Traceback (most recent call last)",
      "\u001b[0;32m<ipython-input-9-4cc739f54d15>\u001b[0m in \u001b[0;36m<module>\u001b[0;34m\u001b[0m\n\u001b[1;32m      5\u001b[0m \u001b[0;31m#print (array)\u001b[0m\u001b[0;34m\u001b[0m\u001b[0;34m\u001b[0m\u001b[0;34m\u001b[0m\u001b[0m\n\u001b[1;32m      6\u001b[0m \u001b[0mprint\u001b[0m\u001b[0;34m(\u001b[0m\u001b[0marray\u001b[0m\u001b[0;34m)\u001b[0m\u001b[0;34m\u001b[0m\u001b[0;34m\u001b[0m\u001b[0m\n\u001b[0;32m----> 7\u001b[0;31m \u001b[0max\u001b[0m\u001b[0;34m.\u001b[0m\u001b[0mplot\u001b[0m\u001b[0;34m(\u001b[0m\u001b[0;34m)\u001b[0m\u001b[0;34m\u001b[0m\u001b[0;34m\u001b[0m\u001b[0m\n\u001b[0m",
      "\u001b[0;31mNameError\u001b[0m: name 'ax' is not defined"
     ]
    }
   ],
   "source": [
    "#interpolation\n",
    "array = df.to_numpy()\n",
    "#x = np.linspace()\n",
    "#y = np.linspace()\n",
    "#print (array)\n",
    "print(array)\n",
    "ax.plot()"
   ]
  },
  {
   "cell_type": "code",
   "execution_count": 10,
   "metadata": {},
   "outputs": [
    {
     "ename": "NameError",
     "evalue": "name 'interped' is not defined",
     "output_type": "error",
     "traceback": [
      "\u001b[0;31m---------------------------------------------------------------------------\u001b[0m",
      "\u001b[0;31mNameError\u001b[0m                                 Traceback (most recent call last)",
      "\u001b[0;32m<ipython-input-10-2076ecbcde7e>\u001b[0m in \u001b[0;36m<module>\u001b[0;34m\u001b[0m\n\u001b[1;32m      1\u001b[0m \u001b[0;31m# this can be dumped into pandas\u001b[0m\u001b[0;34m\u001b[0m\u001b[0;34m\u001b[0m\u001b[0;34m\u001b[0m\u001b[0m\n\u001b[0;32m----> 2\u001b[0;31m \u001b[0minterped_df\u001b[0m \u001b[0;34m=\u001b[0m \u001b[0minterped\u001b[0m\u001b[0;34m.\u001b[0m\u001b[0mto_dataframe\u001b[0m\u001b[0;34m(\u001b[0m\u001b[0;34m)\u001b[0m\u001b[0;34m\u001b[0m\u001b[0;34m\u001b[0m\u001b[0m\n\u001b[0m",
      "\u001b[0;31mNameError\u001b[0m: name 'interped' is not defined"
     ]
    }
   ],
   "source": [
    "# this can be dumped into pandas\n",
    "interped_df = interped.to_dataframe()"
   ]
  },
  {
   "cell_type": "code",
   "execution_count": 11,
   "metadata": {},
   "outputs": [],
   "source": [
    "#print(dfhurdat['Lat'])\n",
    "for storm_number in df['Storm Number'].unique():\n",
    "    da = xr.DataArray()"
   ]
  },
  {
   "cell_type": "code",
   "execution_count": 12,
   "metadata": {},
   "outputs": [
    {
     "ename": "NameError",
     "evalue": "name 'orig_lat' is not defined",
     "output_type": "error",
     "traceback": [
      "\u001b[0;31m---------------------------------------------------------------------------\u001b[0m",
      "\u001b[0;31mNameError\u001b[0m                                 Traceback (most recent call last)",
      "\u001b[0;32m<ipython-input-12-cdc09ba63504>\u001b[0m in \u001b[0;36m<module>\u001b[0;34m\u001b[0m\n\u001b[0;32m----> 1\u001b[0;31m \u001b[0mminlat\u001b[0m \u001b[0;34m=\u001b[0m \u001b[0mmin\u001b[0m\u001b[0;34m(\u001b[0m\u001b[0morig_lat\u001b[0m\u001b[0;34m)\u001b[0m\u001b[0;34m\u001b[0m\u001b[0;34m\u001b[0m\u001b[0m\n\u001b[0m\u001b[1;32m      2\u001b[0m \u001b[0mmaxlat\u001b[0m \u001b[0;34m=\u001b[0m \u001b[0mmax\u001b[0m\u001b[0;34m(\u001b[0m\u001b[0morig_lat\u001b[0m\u001b[0;34m)\u001b[0m\u001b[0;34m\u001b[0m\u001b[0;34m\u001b[0m\u001b[0m\n\u001b[1;32m      3\u001b[0m \u001b[0mminlon\u001b[0m \u001b[0;34m=\u001b[0m \u001b[0mmin\u001b[0m\u001b[0;34m(\u001b[0m\u001b[0morig_lon\u001b[0m\u001b[0;34m)\u001b[0m\u001b[0;34m\u001b[0m\u001b[0;34m\u001b[0m\u001b[0m\n\u001b[1;32m      4\u001b[0m \u001b[0mmaxlon\u001b[0m \u001b[0;34m=\u001b[0m \u001b[0mmax\u001b[0m\u001b[0;34m(\u001b[0m\u001b[0morig_lon\u001b[0m\u001b[0;34m)\u001b[0m\u001b[0;34m\u001b[0m\u001b[0;34m\u001b[0m\u001b[0m\n\u001b[1;32m      5\u001b[0m \u001b[0mminlon\u001b[0m\u001b[0;34m\u001b[0m\u001b[0;34m\u001b[0m\u001b[0m\n",
      "\u001b[0;31mNameError\u001b[0m: name 'orig_lat' is not defined"
     ]
    }
   ],
   "source": [
    "minlat = min(orig_lat)\n",
    "maxlat = max(orig_lat)\n",
    "minlon = min(orig_lon)\n",
    "maxlon = max(orig_lon)\n",
    "minlon"
   ]
  },
  {
   "cell_type": "code",
   "execution_count": 13,
   "metadata": {},
   "outputs": [
    {
     "ename": "NameError",
     "evalue": "name 'minlat' is not defined",
     "output_type": "error",
     "traceback": [
      "\u001b[0;31m---------------------------------------------------------------------------\u001b[0m",
      "\u001b[0;31mNameError\u001b[0m                                 Traceback (most recent call last)",
      "\u001b[0;32m<ipython-input-13-1225d4c4f1c4>\u001b[0m in \u001b[0;36m<module>\u001b[0;34m\u001b[0m\n\u001b[0;32m----> 1\u001b[0;31m \u001b[0mxnew\u001b[0m \u001b[0;34m=\u001b[0m \u001b[0mnp\u001b[0m\u001b[0;34m.\u001b[0m\u001b[0mlinspace\u001b[0m\u001b[0;34m(\u001b[0m\u001b[0mminlat\u001b[0m\u001b[0;34m,\u001b[0m\u001b[0mmaxlat\u001b[0m\u001b[0;34m,\u001b[0m\u001b[0;36m10000\u001b[0m\u001b[0;34m)\u001b[0m\u001b[0;34m\u001b[0m\u001b[0;34m\u001b[0m\u001b[0m\n\u001b[0m\u001b[1;32m      2\u001b[0m \u001b[0mynew\u001b[0m \u001b[0;34m=\u001b[0m \u001b[0mnp\u001b[0m\u001b[0;34m.\u001b[0m\u001b[0mlinspace\u001b[0m\u001b[0;34m(\u001b[0m\u001b[0mminlon\u001b[0m\u001b[0;34m,\u001b[0m\u001b[0mmaxlon\u001b[0m\u001b[0;34m,\u001b[0m\u001b[0;36m10000\u001b[0m\u001b[0;34m)\u001b[0m\u001b[0;34m\u001b[0m\u001b[0;34m\u001b[0m\u001b[0m\n\u001b[1;32m      3\u001b[0m \u001b[0mnewy\u001b[0m \u001b[0;34m=\u001b[0m \u001b[0msp\u001b[0m\u001b[0;34m.\u001b[0m\u001b[0minterp\u001b[0m\u001b[0;34m(\u001b[0m\u001b[0mxnew\u001b[0m\u001b[0;34m,\u001b[0m \u001b[0morig_lat\u001b[0m\u001b[0;34m,\u001b[0m\u001b[0morig_lon\u001b[0m\u001b[0;34m,\u001b[0m\u001b[0;36m10000\u001b[0m\u001b[0;34m)\u001b[0m\u001b[0;34m\u001b[0m\u001b[0;34m\u001b[0m\u001b[0m\n\u001b[1;32m      4\u001b[0m \u001b[0mprint\u001b[0m\u001b[0;34m(\u001b[0m\u001b[0mnewy\u001b[0m\u001b[0;34m)\u001b[0m\u001b[0;34m\u001b[0m\u001b[0;34m\u001b[0m\u001b[0m\n\u001b[1;32m      5\u001b[0m \u001b[0mlen\u001b[0m\u001b[0;34m(\u001b[0m\u001b[0mnewy\u001b[0m\u001b[0;34m)\u001b[0m\u001b[0;34m\u001b[0m\u001b[0;34m\u001b[0m\u001b[0m\n",
      "\u001b[0;31mNameError\u001b[0m: name 'minlat' is not defined"
     ]
    }
   ],
   "source": [
    "xnew = np.linspace(minlat,maxlat,10000)\n",
    "ynew = np.linspace(minlon,maxlon,10000)\n",
    "newy = sp.interp(xnew, orig_lat,orig_lon,10000)\n",
    "print(newy)\n",
    "len(newy)"
   ]
  },
  {
   "cell_type": "code",
   "execution_count": null,
   "metadata": {},
   "outputs": [],
   "source": []
  }
 ],
 "metadata": {
  "kernelspec": {
   "display_name": "Python 3",
   "language": "python",
   "name": "python3"
  },
  "language_info": {
   "codemirror_mode": {
    "name": "ipython",
    "version": 3
   },
   "file_extension": ".py",
   "mimetype": "text/x-python",
   "name": "python",
   "nbconvert_exporter": "python",
   "pygments_lexer": "ipython3",
   "version": "3.9.2"
  }
 },
 "nbformat": 4,
 "nbformat_minor": 4
}
