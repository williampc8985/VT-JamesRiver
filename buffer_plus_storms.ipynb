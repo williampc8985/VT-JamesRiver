{
 "cells": [
  {
   "cell_type": "code",
   "execution_count": 1,
   "metadata": {},
   "outputs": [],
   "source": [
    "#mapping some polygons - \n",
    "import pandas as pd\n",
    "import geopandas as gpd\n",
    "from shapely.geometry.polygon import Polygon\n",
    "import cartopy.crs as ccrs\n",
    "import cartopy.feature as cfeature\n",
    "import matplotlib.pyplot as plt\n",
    "from matplotlib import cm\n",
    "import folium\n",
    "import numpy as np\n",
    "%matplotlib inline"
   ]
  },
  {
   "cell_type": "code",
   "execution_count": 2,
   "metadata": {},
   "outputs": [],
   "source": [
    "#dataframes for csv files - Buffers\n",
    "dfbuffer = pd.read_csv('bufferlatlongV2.csv', delimiter = ',').astype(float)\n",
    "dfhurdat = pd.read_csv('hurdatlatlong.csv', delimiter = ',')\n",
    "dfcoast = pd.read_csv('coastlatlongV2.csv', delimiter = ',').astype(float)\n",
    "dfbasin = pd.read_csv('jamesbasinlatlongV2.csv', delimiter = ',').astype(float)\n",
    "\n"
   ]
  },
  {
   "cell_type": "code",
   "execution_count": 3,
   "metadata": {},
   "outputs": [
    {
     "name": "stderr",
     "output_type": "stream",
     "text": [
      "/Users/williampc/opt/anaconda3/envs/geop/lib/python3.9/site-packages/pyproj/crs/crs.py:53: FutureWarning: '+init=<authority>:<code>' syntax is deprecated. '<authority>:<code>' is the preferred initialization method. When making the change, be mindful of axis order changes: https://pyproj4.github.io/pyproj/stable/gotchas.html#axis-order-changes-in-proj-6\n",
      "  return _prepare_from_string(\" \".join(pjargs))\n"
     ]
    }
   ],
   "source": [
    "#create the polygons\n",
    "buffer_geom =Polygon(zip(dfbuffer['Lon'],dfbuffer['Lat']))\n",
    "basin_geom = Polygon(zip(dfbasin['Lon'],dfbasin['Lat']))\n",
    "crs = {'init' : 'epsg:4326'}\n",
    "bufferpoly = gpd.GeoDataFrame(index = [0], crs = crs, geometry = [buffer_geom])\n",
    "bufferpoly.to_file(filename = 'buffer.geojson', driver = 'GeoJSON')\n",
    "basinpoly = gpd.GeoDataFrame(index = [0], crs = crs, geometry = [basin_geom])\n",
    "basinpoly.to_file(filename = 'basin.geojson', driver = 'GeoJSON')"
   ]
  },
  {
   "cell_type": "code",
   "execution_count": 4,
   "metadata": {},
   "outputs": [],
   "source": [
    "import pandas as pd\n",
    "from datetime import datetime\n",
    "def lat_lon_to_float (v):\n",
    "    \"\"\"Convert strings from NHC to float locations\"\"\"\n",
    "    if (v[-1] == 'S') or (v[-1] == 'W'):\n",
    "        multiplier = -1\n",
    "    else:\n",
    "        multiplier = 1\n",
    "    return float(v[:-1])*multiplier"
   ]
  },
  {
   "cell_type": "code",
   "execution_count": 5,
   "metadata": {},
   "outputs": [],
   "source": [
    "hurdata = []\n",
    "with open ('hurdat2.txt', 'r') as f:\n",
    "    for line in f.readlines():\n",
    "        if line.startswith('AL'):\n",
    "            storm_id = line.split(',')\n",
    "            storm_number = storm_id[0].strip()\n",
    "            storm_name = storm_id[1].strip()\n",
    "        else:\n",
    "            location_line = line.split(',')\n",
    "            dt = datetime.strptime(location_line[0] + location_line[1],\"%Y%m%d %H%M\")\n",
    "            storm_status = location_line[3].strip()\n",
    "            storm_lat = lat_lon_to_float(location_line[4].strip())\n",
    "            storm_lon = lat_lon_to_float(location_line[5].strip())\n",
    "            max_speed = float(location_line[6].strip())\n",
    "            hurdata.append([storm_number,storm_name,storm_status,storm_lat,storm_lon,dt,max_speed])"
   ]
  },
  {
   "cell_type": "code",
   "execution_count": 6,
   "metadata": {},
   "outputs": [
    {
     "data": {
      "text/plain": [
       "51817"
      ]
     },
     "execution_count": 6,
     "metadata": {},
     "output_type": "execute_result"
    }
   ],
   "source": [
    "df = pd.DataFrame(hurdata, columns = ['Storm Number','Storm Name', 'Storm Status', 'Lat', 'Lon','Time', 'Max Speed'])\n",
    "df.head()\n",
    "len(df)\n"
   ]
  },
  {
   "cell_type": "code",
   "execution_count": 7,
   "metadata": {
    "scrolled": true
   },
   "outputs": [
    {
     "name": "stdout",
     "output_type": "stream",
     "text": [
      "    Unnamed: 0 Storm Number Storm Name Storm Status   Lat   Lon  \\\n",
      "0         2874     AL021876    UNNAMED           HU  36.0 -77.3   \n",
      "1         3620     AL021879    UNNAMED           HU  37.3 -75.4   \n",
      "2         3620     AL021879    UNNAMED           HU  37.3 -75.4   \n",
      "3         4906     AL081885    UNNAMED           EX  39.0 -78.0   \n",
      "4         4906     AL081885    UNNAMED           EX  39.0 -78.0   \n",
      "5         4906     AL081885    UNNAMED           EX  39.0 -78.0   \n",
      "6         4906     AL081885    UNNAMED           EX  39.0 -78.0   \n",
      "7         4906     AL081885    UNNAMED           EX  39.0 -78.0   \n",
      "8         4906     AL081885    UNNAMED           EX  39.0 -78.0   \n",
      "9         4947     AL021886    UNNAMED           TD  38.4 -76.9   \n",
      "10        4947     AL021886    UNNAMED           TD  38.4 -76.9   \n",
      "11        4947     AL021886    UNNAMED           TD  38.4 -76.9   \n",
      "12        4947     AL021886    UNNAMED           TD  38.4 -76.9   \n",
      "13        4947     AL021886    UNNAMED           TD  38.4 -76.9   \n",
      "14        4947     AL021886    UNNAMED           TD  38.4 -76.9   \n",
      "15        8951     AL031899    UNNAMED           HU  36.4 -75.3   \n",
      "16        8951     AL031899    UNNAMED           HU  36.4 -75.3   \n",
      "17        8951     AL031899    UNNAMED           HU  36.4 -75.3   \n",
      "18        8951     AL031899    UNNAMED           HU  36.4 -75.3   \n",
      "19        9621     AL031901    UNNAMED           HU  36.1 -75.6   \n",
      "20        9621     AL031901    UNNAMED           HU  36.1 -75.6   \n",
      "21        9621     AL031901    UNNAMED           HU  36.1 -75.6   \n",
      "22        9621     AL031901    UNNAMED           HU  36.1 -75.6   \n",
      "23        9621     AL031901    UNNAMED           HU  36.1 -75.6   \n",
      "24        9621     AL031901    UNNAMED           HU  36.1 -75.6   \n",
      "25        9621     AL031901    UNNAMED           HU  36.1 -75.6   \n",
      "26        9622     AL031901    UNNAMED           HU  36.0 -75.8   \n",
      "27        9622     AL031901    UNNAMED           HU  36.0 -75.8   \n",
      "28        9622     AL031901    UNNAMED           HU  36.0 -75.8   \n",
      "29       45637     AL072007  GABRIELLE           TS  36.0 -75.8   \n",
      "30       45637     AL072007  GABRIELLE           TS  36.0 -75.8   \n",
      "31       45637     AL072007  GABRIELLE           TS  36.0 -75.8   \n",
      "32        9901     AL101901    UNNAMED           EX  37.8 -81.4   \n",
      "33        9901     AL101901    UNNAMED           EX  37.8 -81.4   \n",
      "34       20141     AL071943    UNNAMED           TS  37.7 -75.7   \n",
      "35       20141     AL071943    UNNAMED           TS  37.7 -75.7   \n",
      "36       20141     AL071943    UNNAMED           TS  37.7 -75.7   \n",
      "37       20141     AL071943    UNNAMED           TS  37.7 -75.7   \n",
      "38       20141     AL071943    UNNAMED           TS  37.7 -75.7   \n",
      "39       20141     AL071943    UNNAMED           TS  37.7 -75.7   \n",
      "40       22903     AL021952       ABLE           TS  36.6 -79.9   \n",
      "41       22903     AL021952       ABLE           TS  36.6 -79.9   \n",
      "42       22903     AL021952       ABLE           TS  36.6 -79.9   \n",
      "43       22903     AL021952       ABLE           TS  36.6 -79.9   \n",
      "44       22903     AL021952       ABLE           TS  36.6 -79.9   \n",
      "45       22903     AL021952       ABLE           TS  36.6 -79.9   \n",
      "46       27462     AL131964    UNNAMED           TD  36.2 -75.5   \n",
      "47       27462     AL131964    UNNAMED           TD  36.2 -75.5   \n",
      "48       27462     AL131964    UNNAMED           TD  36.2 -75.5   \n",
      "49       27462     AL131964    UNNAMED           TD  36.2 -75.5   \n",
      "50       27462     AL131964    UNNAMED           TD  36.2 -75.5   \n",
      "51       28542     AL141967      DORIA           TS  37.3 -75.3   \n",
      "52       28542     AL141967      DORIA           TS  37.3 -75.3   \n",
      "53       29875     AL011970       ALMA           EX  37.0 -75.5   \n",
      "54       32268     AL131975     ELOISE           EX  37.5 -81.5   \n",
      "55       32268     AL131975     ELOISE           EX  37.5 -81.5   \n",
      "56       38896     AL031994      BERYL           TD  37.5 -81.5   \n",
      "57       38896     AL031994      BERYL           TD  37.5 -81.5   \n",
      "58       40093     AL061996       FRAN           TD  39.2 -79.9   \n",
      "59       40093     AL061996       FRAN           TD  39.2 -79.9   \n",
      "60       42103     AL012001    ALLISON           SD  35.9 -76.8   \n",
      "61       42103     AL012001    ALLISON           SD  35.9 -76.8   \n",
      "\n",
      "                   Time  \n",
      "0   1876-09-17 18:00:00  \n",
      "1   1879-08-18 18:00:00  \n",
      "2   1879-08-18 18:00:00  \n",
      "3   1885-10-13 18:00:00  \n",
      "4   1885-10-13 18:00:00  \n",
      "5   1885-10-13 18:00:00  \n",
      "6   1885-10-13 18:00:00  \n",
      "7   1885-10-13 18:00:00  \n",
      "8   1885-10-13 18:00:00  \n",
      "9   1886-06-23 06:00:00  \n",
      "10  1886-06-23 06:00:00  \n",
      "11  1886-06-23 06:00:00  \n",
      "12  1886-06-23 06:00:00  \n",
      "13  1886-06-23 06:00:00  \n",
      "14  1886-06-23 06:00:00  \n",
      "15  1899-08-19 00:00:00  \n",
      "16  1899-08-19 00:00:00  \n",
      "17  1899-08-19 00:00:00  \n",
      "18  1899-08-19 00:00:00  \n",
      "19  1901-07-11 06:00:00  \n",
      "20  1901-07-11 06:00:00  \n",
      "21  1901-07-11 06:00:00  \n",
      "22  1901-07-11 06:00:00  \n",
      "23  1901-07-11 06:00:00  \n",
      "24  1901-07-11 06:00:00  \n",
      "25  1901-07-11 06:00:00  \n",
      "26  1901-07-11 07:00:00  \n",
      "27  1901-07-11 07:00:00  \n",
      "28  1901-07-11 07:00:00  \n",
      "29  2007-09-10 00:00:00  \n",
      "30  2007-09-10 00:00:00  \n",
      "31  2007-09-10 00:00:00  \n",
      "32  1901-09-29 00:00:00  \n",
      "33  1901-09-29 00:00:00  \n",
      "34  1943-10-01 00:00:00  \n",
      "35  1943-10-01 00:00:00  \n",
      "36  1943-10-01 00:00:00  \n",
      "37  1943-10-01 00:00:00  \n",
      "38  1943-10-01 00:00:00  \n",
      "39  1943-10-01 00:00:00  \n",
      "40  1952-09-01 00:00:00  \n",
      "41  1952-09-01 00:00:00  \n",
      "42  1952-09-01 00:00:00  \n",
      "43  1952-09-01 00:00:00  \n",
      "44  1952-09-01 00:00:00  \n",
      "45  1952-09-01 00:00:00  \n",
      "46  1964-07-24 06:00:00  \n",
      "47  1964-07-24 06:00:00  \n",
      "48  1964-07-24 06:00:00  \n",
      "49  1964-07-24 06:00:00  \n",
      "50  1964-07-24 06:00:00  \n",
      "51  1967-09-16 18:00:00  \n",
      "52  1967-09-16 18:00:00  \n",
      "53  1970-05-27 06:00:00  \n",
      "54  1975-09-24 18:00:00  \n",
      "55  1975-09-24 18:00:00  \n",
      "56  1994-08-17 18:00:00  \n",
      "57  1994-08-17 18:00:00  \n",
      "58  1996-09-07 00:00:00  \n",
      "59  1996-09-07 00:00:00  \n",
      "60  2001-06-15 18:00:00  \n",
      "61  2001-06-15 18:00:00  \n"
     ]
    }
   ],
   "source": [
    "from sympy import Point, Polygon\n",
    "import pandas as pd\n",
    "import geopandas as gpd\n",
    "from shapely.geometry import *\n",
    "# # #changing to a GeoDataFrame to create geometry series\n",
    "# hurdatgdf = gpd.GeoDataFrame(df, geometry=gpd.points_from_xy(df.Lon,df.Lat))\n",
    "# # hurdatgdf.head()\n",
    "# # len(hurdatgdf)\n",
    "# T = pd.merge(dfbuffer, dfhurdat, how='inner', on=['Lat', 'Lon'])\n",
    "# print(T)\n",
    "# len(T)\n",
    "# T\n",
    "dfinbuffer = pd.merge(dfhurdat,dfbuffer,on=['Lat','Lon'])\n",
    "pd.set_option(\"display.max_rows\", None, \"display.max_columns\", None)\n",
    "print(dfinbuffer)"
   ]
  },
  {
   "cell_type": "code",
   "execution_count": 8,
   "metadata": {},
   "outputs": [],
   "source": [
    "# total map with all storms and buffers\n",
    "import matplotlib.pyplot as plt\n",
    "import cartopy.crs as ccrs\n",
    "import cartopy.feature as cfeature"
   ]
  },
  {
   "cell_type": "code",
   "execution_count": 9,
   "metadata": {},
   "outputs": [],
   "source": [
    "plot_crs = ccrs.LambertConformal(central_longitude =-100., central_latitude = 45)\n",
    "data_crs = ccrs.PlateCarree()"
   ]
  },
  {
   "cell_type": "code",
   "execution_count": 10,
   "metadata": {},
   "outputs": [
    {
     "data": {
      "text/plain": [
       "[<matplotlib.lines.Line2D at 0x1adc9b2b0>]"
      ]
     },
     "execution_count": 10,
     "metadata": {},
     "output_type": "execute_result"
    },
    {
     "name": "stderr",
     "output_type": "stream",
     "text": [
      "/Users/williampc/opt/anaconda3/envs/geop/lib/python3.9/site-packages/cartopy/mpl/feature_artist.py:213: MatplotlibDeprecationWarning: Using a string of single character colors as a color sequence is deprecated since 3.2 and will be removed two minor releases later. Use an explicit list instead.\n",
      "  c = matplotlib.collections.PathCollection(paths,\n"
     ]
    },
    {
     "data": {
      "image/png": "[encoded data removed]",
      "text/plain": [
       "<Figure size 504x504 with 1 Axes>"
      ]
     },
     "metadata": {
      "needs_background": "light"
     },
     "output_type": "display_data"
    }
   ],
   "source": [
    "import matplotlib.patches as mpatches\n",
    "import matplotlib.pyplot as plt\n",
    "import shapely.geometry as sgeom\n",
    "import cartopy.crs as ccrs\n",
    "import cartopy.io.shapereader as shpreader\n",
    "\n",
    "\n",
    "def basincoords():\n",
    "    \"\"\"\n",
    "    Return a list of latitudes and a list of longitudes (lons, lats)\n",
    "    for James River Basin \n",
    "\n",
    "    \"\"\"\n",
    "    basinlon = dfbasin['Lon']\n",
    "    basinlat = dfbasin['Lat']\n",
    "\n",
    "    return basinlon, basinlat\n",
    "\n",
    "def buffercoords():\n",
    "    \"\"\"\n",
    "    Return a list of latitudes and a list of longitudes (lons, lats)\n",
    "    for James River Basin \n",
    "\n",
    "    \"\"\"\n",
    "    bufferlon = dfbuffer['Lon']\n",
    "    bufferlat = dfbuffer['Lat']\n",
    "    \n",
    "\n",
    "    return bufferlon, bufferlat\n",
    "bufferlon, bufferlat = buffercoords()\n",
    "basinlon, basinlat = basincoords()\n",
    "\n",
    "#ax.set_title('James River Basin and Buffer - Virginia, USA')\n",
    "\n",
    "# turn the lons and lats into a shapely LineString\n",
    "buffer = sgeom.LineString(zip(bufferlon, bufferlat))\n",
    "basin = sgeom.LineString(zip(basinlon, basinlat))\n",
    "\n",
    "\n",
    "fig = plt.figure(figsize = (7,7))\n",
    "ax = plt.subplot(1,1,1,projection = plot_crs)\n",
    "\n",
    "ax.set_extent([-85,-70,32,40],data_crs)\n",
    "ax.coastlines('50m', edgecolor = 'k', linewidth = 0.75)\n",
    "ax.add_feature(cfeature.STATES, linewidth = 0.5)\n",
    "ax.add_feature(cfeature.RIVERS, linewidth = 0.85)\n",
    "ax.add_feature(cfeature.OCEAN)\n",
    "ax.add_geometries([buffer], ccrs.PlateCarree(),facecolor='#C8A2C8', alpha=0.5)\n",
    "ax.add_geometries([basin], ccrs.PlateCarree(),facecolor='rgb', edgecolor='k')\n",
    "\n",
    "\n",
    "\n",
    "#for storm_number in vahurc['Storm Number'].unique():\n",
    "    #data = df[jameshurc['Storm Number'] == storm_number]\n",
    "    #print(vahurc)\n",
    "ax.plot(dfinbuffer['Lon'], dfinbuffer['Lat'])#,dfbuffer['Lon'],dfbuffer['Lat'],dfbasin['Lat'],dfbasin['Lon'], transform = data_crs)"
   ]
  },
  {
   "cell_type": "code",
   "execution_count": null,
   "metadata": {},
   "outputs": [],
   "source": []
  },
  {
   "cell_type": "code",
   "execution_count": null,
   "metadata": {},
   "outputs": [],
   "source": []
  }
 ],
 "metadata": {
  "kernelspec": {
   "display_name": "Python 3",
   "language": "python",
   "name": "python3"
  },
  "language_info": {
   "codemirror_mode": {
    "name": "ipython",
    "version": 3
   },
   "file_extension": ".py",
   "mimetype": "text/x-python",
   "name": "python",
   "nbconvert_exporter": "python",
   "pygments_lexer": "ipython3",
   "version": "3.9.2"
  }
 },
 "nbformat": 4,
 "nbformat_minor": 4
}
