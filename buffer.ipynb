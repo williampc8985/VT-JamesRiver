{
 "cells": [
  {
   "cell_type": "code",
   "execution_count": 1,
   "metadata": {},
   "outputs": [],
   "source": [
    "#mapping some polygons - \n",
    "import pandas as pd\n",
    "import geopandas as gpd\n",
    "from shapely.geometry.polygon import Polygon\n",
    "import cartopy.crs as ccrs\n",
    "import cartopy.feature as cfeature\n",
    "import matplotlib.pyplot as plt\n",
    "from matplotlib import cm\n",
    "import folium\n",
    "import numpy as np\n",
    "%matplotlib inline"
   ]
  },
  {
   "cell_type": "code",
   "execution_count": 2,
   "metadata": {},
   "outputs": [],
   "source": [
    "#USE ONCE\n",
    "# Lat = np.linspace(36.01,40.01,200)\n",
    "# Lon = np.linspace(-84.01, -75.01,200)\n",
    "# vapoly = {'Lat':Lat,'Lon':Lon}\n",
    "# vapolydf = pd.DataFrame(vapoly)\n",
    "# vapolydf.head()\n",
    "# vapolydf.to_csv(r'vapoly.csv')"
   ]
  },
  {
   "cell_type": "code",
   "execution_count": 3,
   "metadata": {},
   "outputs": [],
   "source": [
    "#dataframes for csv files - Buffers\n",
    "dfbuffer = pd.read_csv('bufferlatlongV2.csv', delimiter = ',').astype(float)\n",
    "dfhurdat = pd.read_csv('hurdatcleanva.csv', delimiter = ',')\n",
    "dfcoast = pd.read_csv('coastlatlongV2.csv', delimiter = ',').astype(float)\n",
    "dfbasin = pd.read_csv('jamesbasinlatlongV2.csv', delimiter = ',').astype(float)\n",
    "dfva = pd.read_csv('vapoly.csv',delimiter = ',').astype(float)\n"
   ]
  },
  {
   "cell_type": "code",
   "execution_count": 4,
   "metadata": {},
   "outputs": [
    {
     "data": {
      "text/html": [
       "<div>\n",
       "<style scoped>\n",
       "    .dataframe tbody tr th:only-of-type {\n",
       "        vertical-align: middle;\n",
       "    }\n",
       "\n",
       "    .dataframe tbody tr th {\n",
       "        vertical-align: top;\n",
       "    }\n",
       "\n",
       "    .dataframe thead th {\n",
       "        text-align: right;\n",
       "    }\n",
       "</style>\n",
       "<table border=\"1\" class=\"dataframe\">\n",
       "  <thead>\n",
       "    <tr style=\"text-align: right;\">\n",
       "      <th></th>\n",
       "      <th>Storm Number</th>\n",
       "      <th>Storm Name</th>\n",
       "      <th>Storm Status</th>\n",
       "      <th>Lat</th>\n",
       "      <th>Lon</th>\n",
       "      <th>Time</th>\n",
       "      <th>Maxspeed</th>\n",
       "    </tr>\n",
       "  </thead>\n",
       "  <tbody>\n",
       "    <tr>\n",
       "      <th>0</th>\n",
       "      <td>AL041851</td>\n",
       "      <td>UNNAMED</td>\n",
       "      <td>TS</td>\n",
       "      <td>36.8</td>\n",
       "      <td>-75.1</td>\n",
       "      <td>1851-08-25 18:00:00</td>\n",
       "      <td>40.0</td>\n",
       "    </tr>\n",
       "    <tr>\n",
       "      <th>1</th>\n",
       "      <td>AL031854</td>\n",
       "      <td>UNNAMED</td>\n",
       "      <td>TS</td>\n",
       "      <td>36.8</td>\n",
       "      <td>-75.9</td>\n",
       "      <td>1854-09-10 06:00:00</td>\n",
       "      <td>40.0</td>\n",
       "    </tr>\n",
       "    <tr>\n",
       "      <th>2</th>\n",
       "      <td>AL031856</td>\n",
       "      <td>UNNAMED</td>\n",
       "      <td>TS</td>\n",
       "      <td>37.0</td>\n",
       "      <td>-76.0</td>\n",
       "      <td>1856-08-20 00:00:00</td>\n",
       "      <td>50.0</td>\n",
       "    </tr>\n",
       "    <tr>\n",
       "      <th>3</th>\n",
       "      <td>AL031856</td>\n",
       "      <td>UNNAMED</td>\n",
       "      <td>TS</td>\n",
       "      <td>38.0</td>\n",
       "      <td>-75.3</td>\n",
       "      <td>1856-08-20 06:00:00</td>\n",
       "      <td>50.0</td>\n",
       "    </tr>\n",
       "    <tr>\n",
       "      <th>4</th>\n",
       "      <td>AL021857</td>\n",
       "      <td>UNNAMED</td>\n",
       "      <td>TS</td>\n",
       "      <td>36.3</td>\n",
       "      <td>-75.8</td>\n",
       "      <td>1857-09-14 06:00:00</td>\n",
       "      <td>50.0</td>\n",
       "    </tr>\n",
       "  </tbody>\n",
       "</table>\n",
       "</div>"
      ],
      "text/plain": [
       "  Storm Number Storm Name Storm Status   Lat   Lon                 Time  \\\n",
       "0     AL041851    UNNAMED           TS  36.8 -75.1  1851-08-25 18:00:00   \n",
       "1     AL031854    UNNAMED           TS  36.8 -75.9  1854-09-10 06:00:00   \n",
       "2     AL031856    UNNAMED           TS  37.0 -76.0  1856-08-20 00:00:00   \n",
       "3     AL031856    UNNAMED           TS  38.0 -75.3  1856-08-20 06:00:00   \n",
       "4     AL021857    UNNAMED           TS  36.3 -75.8  1857-09-14 06:00:00   \n",
       "\n",
       "   Maxspeed  \n",
       "0      40.0  \n",
       "1      40.0  \n",
       "2      50.0  \n",
       "3      50.0  \n",
       "4      50.0  "
      ]
     },
     "execution_count": 4,
     "metadata": {},
     "output_type": "execute_result"
    }
   ],
   "source": [
    "dfhurdat.head()"
   ]
  },
  {
   "cell_type": "code",
   "execution_count": 5,
   "metadata": {},
   "outputs": [
    {
     "data": {
      "text/html": [
       "<div>\n",
       "<style scoped>\n",
       "    .dataframe tbody tr th:only-of-type {\n",
       "        vertical-align: middle;\n",
       "    }\n",
       "\n",
       "    .dataframe tbody tr th {\n",
       "        vertical-align: top;\n",
       "    }\n",
       "\n",
       "    .dataframe thead th {\n",
       "        text-align: right;\n",
       "    }\n",
       "</style>\n",
       "<table border=\"1\" class=\"dataframe\">\n",
       "  <thead>\n",
       "    <tr style=\"text-align: right;\">\n",
       "      <th></th>\n",
       "      <th>Lat</th>\n",
       "      <th>Lon</th>\n",
       "    </tr>\n",
       "  </thead>\n",
       "  <tbody>\n",
       "    <tr>\n",
       "      <th>0</th>\n",
       "      <td>37.3</td>\n",
       "      <td>-75.4</td>\n",
       "    </tr>\n",
       "    <tr>\n",
       "      <th>1</th>\n",
       "      <td>37.3</td>\n",
       "      <td>-75.3</td>\n",
       "    </tr>\n",
       "    <tr>\n",
       "      <th>2</th>\n",
       "      <td>37.3</td>\n",
       "      <td>-75.3</td>\n",
       "    </tr>\n",
       "    <tr>\n",
       "      <th>3</th>\n",
       "      <td>37.0</td>\n",
       "      <td>-75.5</td>\n",
       "    </tr>\n",
       "    <tr>\n",
       "      <th>4</th>\n",
       "      <td>36.4</td>\n",
       "      <td>-75.3</td>\n",
       "    </tr>\n",
       "  </tbody>\n",
       "</table>\n",
       "</div>"
      ],
      "text/plain": [
       "    Lat   Lon\n",
       "0  37.3 -75.4\n",
       "1  37.3 -75.3\n",
       "2  37.3 -75.3\n",
       "3  37.0 -75.5\n",
       "4  36.4 -75.3"
      ]
     },
     "execution_count": 5,
     "metadata": {},
     "output_type": "execute_result"
    }
   ],
   "source": [
    "dfbuffer.head()"
   ]
  },
  {
   "cell_type": "code",
   "execution_count": 6,
   "metadata": {
    "scrolled": true
   },
   "outputs": [],
   "source": [
    "# # import Point, Polygon \n",
    "# from sympy import Point, Polygon, Line \n",
    "# #isolate the storm and get a list of points.\n",
    "# #dfhurdat.head()\n",
    "# points = dfhurdat[dfhurdat['Storm Number'] == \"AL031856\"]\n",
    "# datachop = points[['Lat','Lon']].copy().values #conversion to an array\n",
    "# #create a line object\n",
    "# # using intersection() \n",
    "# isIntersection = poly1.intersection(Line(p1, Point(3, 2)))\n"
   ]
  },
  {
   "cell_type": "code",
   "execution_count": 7,
   "metadata": {},
   "outputs": [],
   "source": [
    "import scipy as sp\n",
    "import scipy.interpolate"
   ]
  },
  {
   "cell_type": "code",
   "execution_count": 8,
   "metadata": {},
   "outputs": [
    {
     "data": {
      "text/plain": [
       "100000"
      ]
     },
     "execution_count": 8,
     "metadata": {},
     "output_type": "execute_result"
    }
   ],
   "source": [
    "import numpy as np\n",
    "lat = dfhurdat[['Lat']].copy().values\n",
    "latmin = min(lat)\n",
    "latmax = max(lat)\n",
    "lon = dfhurdat[['Lon']].copy().values\n",
    "lonmin = min(lon)\n",
    "lonmax = max(lon)\n",
    "length = 100000\n",
    "# londf = pd.DataFrame(lat)\n",
    "# latmin = min(latdf['Lat'])\n",
    "# latmax = max(latdf['Lat'])\n",
    "# lonmin = min(londf['Lat'])  \n",
    "# lonmax = max(londf['Lat'])\n",
    "upsample_lat = np.linspace(latmin,latmax,length)\n",
    "#print(upsample_lat)\n",
    "upsample_lon = np.linspace(lonmin,lonmax,length)\n",
    "#print(upsample_lon)\n",
    "df1 = pd.DataFrame(upsample_lat)\n",
    "df2 = pd.DataFrame(upsample_lon)\n",
    "# Place the DataFrames side by side\n",
    "dfupsample = pd.concat([df1, df2], axis=1)\n",
    "dfupsample.columns = ['Lat', 'Lon']\n",
    "dfupsample\n",
    "len(dfupsample)"
   ]
  },
  {
   "cell_type": "code",
   "execution_count": 9,
   "metadata": {},
   "outputs": [
    {
     "name": "stderr",
     "output_type": "stream",
     "text": [
      "/Users/williampc/opt/anaconda3/envs/geop/lib/python3.9/site-packages/pyproj/crs/crs.py:53: FutureWarning: '+init=<authority>:<code>' syntax is deprecated. '<authority>:<code>' is the preferred initialization method. When making the change, be mindful of axis order changes: https://pyproj4.github.io/pyproj/stable/gotchas.html#axis-order-changes-in-proj-6\n",
      "  return _prepare_from_string(\" \".join(pjargs))\n"
     ]
    }
   ],
   "source": [
    "#create the polygons\n",
    "#polygon to reach beyond state a little\n",
    "#listPoint = [[13.415449261665342, 52.502674590782519],[13.416039347648621, 52.50250152147968],[13.415787220001221, 52.501845158120446],[13.416162729263306, 52.502201097675766],[13.415406346321104, 52.502334982450677],[13.415111303329468,52.50204435400651]]\n",
    "#polygon = {'type': 'Polygon', 'coordinates': [listPoint]}\n",
    "\n",
    "buffer_geom =Polygon(zip(dfbuffer['Lon'],dfbuffer['Lat']))\n",
    "basin_geom = Polygon(zip(dfbasin['Lon'],dfbasin['Lat']))\n",
    "crs = {'init' : 'epsg:4326'}\n",
    "bufferpoly = gpd.GeoDataFrame(index = [0], crs = crs, geometry = [buffer_geom])\n",
    "bufferpoly.to_file(filename = 'buffer.geojson', driver = 'GeoJSON')\n",
    "basinpoly = gpd.GeoDataFrame(index = [0], crs = crs, geometry = [basin_geom])\n",
    "basinpoly.to_file(filename = 'basin.geojson', driver = 'GeoJSON')"
   ]
  },
  {
   "cell_type": "code",
   "execution_count": 10,
   "metadata": {},
   "outputs": [],
   "source": [
    "### for use with original data from nhc ###\n",
    "# import pandas as pd\n",
    "# from datetime import datetime\n",
    "# def lat_lon_to_float (v):\n",
    "#     \"\"\"Convert strings from NHC to float locations\"\"\"\n",
    "#     if (v[-1] == 'S') or (v[-1] == 'W'):\n",
    "#         multiplier = -1\n",
    "#     else:\n",
    "#         multiplier = 1\n",
    "#     return float(v[:-1])*multiplier"
   ]
  },
  {
   "cell_type": "code",
   "execution_count": 11,
   "metadata": {},
   "outputs": [],
   "source": [
    "### for use with original data from nhc ###\n",
    "# hurdata = []\n",
    "# with open ('hurdat2.txt', 'r') as f:\n",
    "#     for line in f.readlines():\n",
    "#         if line.startswith('AL'):\n",
    "#             storm_id = line.split(',')\n",
    "#             storm_number = storm_id[0].strip()\n",
    "#             storm_name = storm_id[1].strip()\n",
    "#         else:\n",
    "#             location_line = line.split(',')\n",
    "#             dt = datetime.strptime(location_line[0] + location_line[1],\"%Y%m%d %H%M\")\n",
    "#             storm_status = location_line[3].strip()\n",
    "#             storm_lat = lat_lon_to_float(location_line[4].strip())\n",
    "#             storm_lon = lat_lon_to_float(location_line[5].strip())\n",
    "#             max_speed = float(location_line[6].strip())\n",
    "#             hurdata.append([storm_number,storm_name,storm_status,storm_lat,storm_lon,dt,max_speed])\n",
    "#df = pd.DataFrame(hurdata, columns = ['Storm Number','Storm Name', 'Storm Status', 'Lat', 'Lon','Time', 'Max Speed'])\n"
   ]
  },
  {
   "cell_type": "code",
   "execution_count": 12,
   "metadata": {},
   "outputs": [
    {
     "data": {
      "text/html": [
       "<div>\n",
       "<style scoped>\n",
       "    .dataframe tbody tr th:only-of-type {\n",
       "        vertical-align: middle;\n",
       "    }\n",
       "\n",
       "    .dataframe tbody tr th {\n",
       "        vertical-align: top;\n",
       "    }\n",
       "\n",
       "    .dataframe thead th {\n",
       "        text-align: right;\n",
       "    }\n",
       "</style>\n",
       "<table border=\"1\" class=\"dataframe\">\n",
       "  <thead>\n",
       "    <tr style=\"text-align: right;\">\n",
       "      <th></th>\n",
       "      <th>Storm Number</th>\n",
       "      <th>Storm Name</th>\n",
       "      <th>Storm Status</th>\n",
       "      <th>Lat</th>\n",
       "      <th>Lon</th>\n",
       "      <th>Time</th>\n",
       "      <th>Maxspeed</th>\n",
       "    </tr>\n",
       "  </thead>\n",
       "  <tbody>\n",
       "    <tr>\n",
       "      <th>0</th>\n",
       "      <td>AL041851</td>\n",
       "      <td>UNNAMED</td>\n",
       "      <td>TS</td>\n",
       "      <td>36.8</td>\n",
       "      <td>-75.1</td>\n",
       "      <td>1851-08-25 18:00:00</td>\n",
       "      <td>40.0</td>\n",
       "    </tr>\n",
       "    <tr>\n",
       "      <th>1</th>\n",
       "      <td>AL031854</td>\n",
       "      <td>UNNAMED</td>\n",
       "      <td>TS</td>\n",
       "      <td>36.8</td>\n",
       "      <td>-75.9</td>\n",
       "      <td>1854-09-10 06:00:00</td>\n",
       "      <td>40.0</td>\n",
       "    </tr>\n",
       "    <tr>\n",
       "      <th>2</th>\n",
       "      <td>AL031856</td>\n",
       "      <td>UNNAMED</td>\n",
       "      <td>TS</td>\n",
       "      <td>37.0</td>\n",
       "      <td>-76.0</td>\n",
       "      <td>1856-08-20 00:00:00</td>\n",
       "      <td>50.0</td>\n",
       "    </tr>\n",
       "    <tr>\n",
       "      <th>3</th>\n",
       "      <td>AL031856</td>\n",
       "      <td>UNNAMED</td>\n",
       "      <td>TS</td>\n",
       "      <td>38.0</td>\n",
       "      <td>-75.3</td>\n",
       "      <td>1856-08-20 06:00:00</td>\n",
       "      <td>50.0</td>\n",
       "    </tr>\n",
       "    <tr>\n",
       "      <th>4</th>\n",
       "      <td>AL021857</td>\n",
       "      <td>UNNAMED</td>\n",
       "      <td>TS</td>\n",
       "      <td>36.3</td>\n",
       "      <td>-75.8</td>\n",
       "      <td>1857-09-14 06:00:00</td>\n",
       "      <td>50.0</td>\n",
       "    </tr>\n",
       "  </tbody>\n",
       "</table>\n",
       "</div>"
      ],
      "text/plain": [
       "  Storm Number Storm Name Storm Status   Lat   Lon                 Time  \\\n",
       "0     AL041851    UNNAMED           TS  36.8 -75.1  1851-08-25 18:00:00   \n",
       "1     AL031854    UNNAMED           TS  36.8 -75.9  1854-09-10 06:00:00   \n",
       "2     AL031856    UNNAMED           TS  37.0 -76.0  1856-08-20 00:00:00   \n",
       "3     AL031856    UNNAMED           TS  38.0 -75.3  1856-08-20 06:00:00   \n",
       "4     AL021857    UNNAMED           TS  36.3 -75.8  1857-09-14 06:00:00   \n",
       "\n",
       "   Maxspeed  \n",
       "0      40.0  \n",
       "1      40.0  \n",
       "2      50.0  \n",
       "3      50.0  \n",
       "4      50.0  "
      ]
     },
     "execution_count": 12,
     "metadata": {},
     "output_type": "execute_result"
    }
   ],
   "source": [
    "dfhurdat.head()\n"
   ]
  },
  {
   "cell_type": "code",
   "execution_count": 13,
   "metadata": {},
   "outputs": [
    {
     "name": "stdout",
     "output_type": "stream",
     "text": [
      "      Lat   Lon\n",
      "0    36.8 -75.1\n",
      "1    36.8 -75.9\n",
      "2    37.0 -76.0\n",
      "3    38.0 -75.3\n",
      "4    36.3 -75.8\n",
      "..    ...   ...\n",
      "285  37.8 -82.0\n",
      "286  38.8 -82.0\n",
      "287  39.5 -80.5\n",
      "288  36.5 -77.7\n",
      "289  37.0 -76.7\n",
      "\n",
      "[290 rows x 2 columns]\n"
     ]
    }
   ],
   "source": [
    "datachop = dfhurdat[['Lat','Lon']].copy().values\n",
    "dfhd = pd.DataFrame(datachop).astype(float)\n",
    "dfhd.columns = ['Lat', 'Lon']\n",
    "dfhd.values.tolist()\n",
    "print(dfhd)"
   ]
  },
  {
   "cell_type": "code",
   "execution_count": 14,
   "metadata": {},
   "outputs": [],
   "source": [
    "# # #changing to a GeoDataFrame to create geometry series\n",
    "# hurdatgdf = gpd.GeoDataFrame(df, geometry=gpd.points_from_xy(df.Lon,df.Lat))\n",
    "# # hurdatgdf.head()\n",
    "# # len(hurdatgdf)\n",
    "# T = pd.merge(dfbuffer, dfhurdat, how='inner', on=['Lat', 'Lon'])\n",
    "# print(T)\n",
    "# len(T)\n",
    "# T\n",
    "#dfinbuffer = pd.merge(dfhurdat,dfupsample,on=['Lat','Lon'])\n",
    "#dfinbuffer = pd.merge(left=dfhurdat, right=dfupsample, left_on='Lat', right_on='Lon')\n",
    "#dfinbuffer = pd.DatFrame.merge(left = dfhurdat, right = dfupsample, left_on = ['Lat','Lon'], right_on = ['Lat','Lon'], how = 'right')\n",
    "\n",
    "# isIntersection = bufferpoly.intersection(Line(dfhd))\n",
    "#dfinbuffer = pd.merge(dfupsample.astype(float), dfva.astype(float), on=[\"Lat\",\"Lon\"])\n",
    "#pd.set_option(\"display.max_rows\", None, \"display.max_columns\", None)\n",
    "#print(dfinbuffer)\n",
    "# len(dfinbuffer)\n",
    "# print(dfinbuffer)"
   ]
  },
  {
   "cell_type": "code",
   "execution_count": 15,
   "metadata": {},
   "outputs": [],
   "source": [
    "from sympy import Point, Polygon, Line \n",
    "from sympy import Point, Polygon\n",
    "import pandas as pd\n",
    "import geopandas as gpd\n",
    "from shapely.geometry import *"
   ]
  },
  {
   "cell_type": "code",
   "execution_count": 16,
   "metadata": {},
   "outputs": [],
   "source": [
    "# total map with all storms and buffers\n",
    "import matplotlib.pyplot as plt\n",
    "import cartopy.crs as ccrs\n",
    "import cartopy.feature as cfeature"
   ]
  },
  {
   "cell_type": "code",
   "execution_count": 17,
   "metadata": {},
   "outputs": [],
   "source": [
    "plot_crs = ccrs.LambertConformal(central_longitude =-100., central_latitude = 45)\n",
    "data_crs = ccrs.PlateCarree()"
   ]
  },
  {
   "cell_type": "code",
   "execution_count": 18,
   "metadata": {},
   "outputs": [
    {
     "data": {
      "text/plain": [
       "[<matplotlib.lines.Line2D at 0x1a5abdf10>,\n",
       " <matplotlib.lines.Line2D at 0x1a5abdfa0>,\n",
       " <matplotlib.lines.Line2D at 0x1a5abdf70>]"
      ]
     },
     "execution_count": 18,
     "metadata": {},
     "output_type": "execute_result"
    },
    {
     "name": "stderr",
     "output_type": "stream",
     "text": [
      "/Users/williampc/opt/anaconda3/envs/geop/lib/python3.9/site-packages/cartopy/mpl/feature_artist.py:213: MatplotlibDeprecationWarning: Using a string of single character colors as a color sequence is deprecated since 3.2 and will be removed two minor releases later. Use an explicit list instead.\n",
      "  c = matplotlib.collections.PathCollection(paths,\n"
     ]
    },
    {
     "data": {
      "image/png": "[encoded data removed]",
      "text/plain": [
       "<Figure size 504x504 with 1 Axes>"
      ]
     },
     "metadata": {
      "needs_background": "light"
     },
     "output_type": "display_data"
    }
   ],
   "source": [
    "import matplotlib.patches as mpatches\n",
    "import matplotlib.pyplot as plt\n",
    "import shapely.geometry as sgeom\n",
    "import cartopy.crs as ccrs\n",
    "import cartopy.io.shapereader as shpreader\n",
    "\n",
    "\n",
    "def basincoords():\n",
    "    \"\"\"\n",
    "    Return a list of latitudes and a list of longitudes (lons, lats)\n",
    "    for James River Basin \n",
    "\n",
    "    \"\"\"\n",
    "    basinlon = dfbasin['Lon']\n",
    "    basinlat = dfbasin['Lat']\n",
    "\n",
    "    return basinlon, basinlat\n",
    "\n",
    "def buffercoords():\n",
    "    \"\"\"\n",
    "    Return a list of latitudes and a list of longitudes (lons, lats)\n",
    "    for James River Basin \n",
    "\n",
    "    \"\"\"\n",
    "    bufferlon = dfbuffer['Lon']\n",
    "    bufferlat = dfbuffer['Lat']\n",
    "    \n",
    "\n",
    "    return bufferlon, bufferlat\n",
    "bufferlon, bufferlat = buffercoords()\n",
    "basinlon, basinlat = basincoords()\n",
    "\n",
    "#ax.set_title('James River Basin and Buffer - Virginia, USA')\n",
    "\n",
    "# turn the lons and lats into a shapely LineString\n",
    "buffer = sgeom.LineString(zip(bufferlon, bufferlat))\n",
    "basin = sgeom.LineString(zip(basinlon, basinlat))\n",
    "\n",
    "\n",
    "fig = plt.figure(figsize = (7,7))\n",
    "ax = plt.subplot(1,1,1,projection = plot_crs)\n",
    "\n",
    "ax.set_extent([-85,-70,32,40],data_crs)\n",
    "ax.coastlines('50m', edgecolor = 'k', linewidth = 0.75)\n",
    "ax.add_feature(cfeature.STATES, linewidth = 0.5)\n",
    "ax.add_feature(cfeature.RIVERS, linewidth = 0.85)\n",
    "ax.add_feature(cfeature.OCEAN)\n",
    "ax.add_geometries([buffer], ccrs.PlateCarree(),facecolor='#C8A2C8', alpha=0.5)\n",
    "ax.add_geometries([basin], ccrs.PlateCarree(),facecolor='rgb', edgecolor='k')\n",
    "ax.plot(dfupsample['Lon'], dfupsample['Lat'],transform = data_crs)\n",
    "\n",
    "#for storm_number in vahurc['Storm Number'].unique():\n",
    "    #data = df[jameshurc['Storm Number'] == storm_number]\n",
    "    #print(vahurc)\n",
    "ax.plot(dfupsample['Lon'], dfupsample['Lat'],dfbuffer['Lon'],dfbuffer['Lat'],dfbasin['Lat'],dfbasin['Lon'], transform = data_crs)"
   ]
  },
  {
   "cell_type": "code",
   "execution_count": null,
   "metadata": {},
   "outputs": [],
   "source": []
  },
  {
   "cell_type": "code",
   "execution_count": null,
   "metadata": {},
   "outputs": [],
   "source": []
  },
  {
   "cell_type": "code",
   "execution_count": null,
   "metadata": {},
   "outputs": [],
   "source": []
  }
 ],
 "metadata": {
  "kernelspec": {
   "display_name": "Python 3",
   "language": "python",
   "name": "python3"
  },
  "language_info": {
   "codemirror_mode": {
    "name": "ipython",
    "version": 3
   },
   "file_extension": ".py",
   "mimetype": "text/x-python",
   "name": "python",
   "nbconvert_exporter": "python",
   "pygments_lexer": "ipython3",
   "version": "3.9.2"
  }
 },
 "nbformat": 4,
 "nbformat_minor": 4
}
