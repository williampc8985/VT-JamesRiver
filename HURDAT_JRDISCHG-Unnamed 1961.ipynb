{
 "cells": [
  {
   "cell_type": "code",
   "execution_count": 2,
   "id": "conceptual-mentor",
   "metadata": {},
   "outputs": [],
   "source": [
    "import pandas as pd"
   ]
  },
  {
   "cell_type": "code",
   "execution_count": 3,
   "id": "metric-roman",
   "metadata": {},
   "outputs": [
    {
     "name": "stderr",
     "output_type": "stream",
     "text": [
      "/Users/williampc/opt/anaconda3/envs/geop/lib/python3.9/site-packages/IPython/core/interactiveshell.py:3165: DtypeWarning: Columns (7) have mixed types.Specify dtype option on import or set low_memory=False.\n",
      "  has_raised = await self.run_ast_nodes(code_ast.body, cell_name,\n"
     ]
    }
   ],
   "source": [
    "#This is the Richmond USGS Data gage\n",
    "river_richmnd = pd.read_csv('JR_Richmond02037500.csv')"
   ]
  },
  {
   "cell_type": "code",
   "execution_count": 4,
   "id": "infrared-relay",
   "metadata": {},
   "outputs": [],
   "source": [
    "river_richmnd.dropna();"
   ]
  },
  {
   "cell_type": "code",
   "execution_count": 5,
   "id": "vietnamese-cookbook",
   "metadata": {},
   "outputs": [],
   "source": [
    "#Hurricane data for the basin - Names of Relevant Storms - This will be used for getting the storms from the larger set\n",
    "JR_stormnames = pd.read_csv('gis_match.csv')\n"
   ]
  },
  {
   "cell_type": "code",
   "execution_count": 6,
   "id": "ideal-soldier",
   "metadata": {},
   "outputs": [],
   "source": [
    "# Bring in the Big HURDAT data, from 1950 forward (satellites and data quality, etc.)\n",
    "HURDAT = pd.read_csv('hurdatcleanva_1950_present.csv')\n"
   ]
  },
  {
   "cell_type": "code",
   "execution_count": 7,
   "id": "static-ultimate",
   "metadata": {},
   "outputs": [],
   "source": [
    "VA_JR_stormmatch = JR_stormnames.merge(HURDAT)\n"
   ]
  },
  {
   "cell_type": "code",
   "execution_count": 8,
   "id": "double-uncle",
   "metadata": {},
   "outputs": [],
   "source": [
    "# Now the common storms for the James Basin have been created. We now have time and storms together for the basin\n",
    "#checking some things about the data"
   ]
  },
  {
   "cell_type": "code",
   "execution_count": 9,
   "id": "massive-august",
   "metadata": {},
   "outputs": [],
   "source": [
    "# How many unique storms within the basin since 1950? 62 here and 53 in the Data on the Coast.NOAA.gov's website. \n",
    "#I think we are close enough here, digging may show some other storms, but I think we have at least captured the ones \n",
    "#from NOAA\n",
    "len(VA_JR_stormmatch['Storm Number'].unique());"
   ]
  },
  {
   "cell_type": "code",
   "execution_count": 10,
   "id": "shaped-smoke",
   "metadata": {},
   "outputs": [
    {
     "name": "stdout",
     "output_type": "stream",
     "text": [
      "36.1 -83.7 39.9 -75.1\n"
     ]
    }
   ],
   "source": [
    "#double ck the lat and long parameters\n",
    "print(VA_JR_stormmatch['Lat'].min(),\n",
    "VA_JR_stormmatch['Lon'].min(),\n",
    "VA_JR_stormmatch['Lat'].max(),\n",
    "VA_JR_stormmatch['Lon'].max())"
   ]
  },
  {
   "cell_type": "code",
   "execution_count": 11,
   "id": "wrong-tragedy",
   "metadata": {},
   "outputs": [],
   "source": [
    "#Make a csv of this data\n",
    "VA_JR_stormmatch.to_csv('storms_in_basin.csv', sep=',',encoding = 'utf-8')"
   ]
  },
  {
   "cell_type": "code",
   "execution_count": 12,
   "id": "multiple-transfer",
   "metadata": {},
   "outputs": [],
   "source": [
    "#names of storms \n",
    "len(VA_JR_stormmatch['Storm Number'].unique())\n",
    "VA_JR_stormmatch['Storm Number'].unique()\n",
    "numbers = VA_JR_stormmatch['Storm Number']"
   ]
  },
  {
   "cell_type": "code",
   "execution_count": 13,
   "id": "cooked-translation",
   "metadata": {
    "scrolled": true
   },
   "outputs": [
    {
     "data": {
      "text/html": [
       "<div>\n",
       "<style scoped>\n",
       "    .dataframe tbody tr th:only-of-type {\n",
       "        vertical-align: middle;\n",
       "    }\n",
       "\n",
       "    .dataframe tbody tr th {\n",
       "        vertical-align: top;\n",
       "    }\n",
       "\n",
       "    .dataframe thead th {\n",
       "        text-align: right;\n",
       "    }\n",
       "</style>\n",
       "<table border=\"1\" class=\"dataframe\">\n",
       "  <thead>\n",
       "    <tr style=\"text-align: right;\">\n",
       "      <th></th>\n",
       "      <th>Storm Name</th>\n",
       "      <th>Storm Number</th>\n",
       "      <th>Storm Status</th>\n",
       "      <th>Lat</th>\n",
       "      <th>Lon</th>\n",
       "      <th>Time</th>\n",
       "      <th>Maxspeed</th>\n",
       "    </tr>\n",
       "  </thead>\n",
       "  <tbody>\n",
       "    <tr>\n",
       "      <th>171</th>\n",
       "      <td>UNNAMED</td>\n",
       "      <td>AL061961</td>\n",
       "      <td>TS</td>\n",
       "      <td>37.1</td>\n",
       "      <td>-76.0</td>\n",
       "      <td>9/14/61 21:00</td>\n",
       "      <td>45</td>\n",
       "    </tr>\n",
       "    <tr>\n",
       "      <th>172</th>\n",
       "      <td>UNNAMED</td>\n",
       "      <td>AL061961</td>\n",
       "      <td>TS</td>\n",
       "      <td>38.3</td>\n",
       "      <td>-75.3</td>\n",
       "      <td>9/15/61 0:00</td>\n",
       "      <td>50</td>\n",
       "    </tr>\n",
       "    <tr>\n",
       "      <th>181</th>\n",
       "      <td>UNNAMED</td>\n",
       "      <td>AL061961</td>\n",
       "      <td>TS</td>\n",
       "      <td>37.1</td>\n",
       "      <td>-76.0</td>\n",
       "      <td>9/14/61 21:00</td>\n",
       "      <td>45</td>\n",
       "    </tr>\n",
       "    <tr>\n",
       "      <th>182</th>\n",
       "      <td>UNNAMED</td>\n",
       "      <td>AL061961</td>\n",
       "      <td>TS</td>\n",
       "      <td>38.3</td>\n",
       "      <td>-75.3</td>\n",
       "      <td>9/15/61 0:00</td>\n",
       "      <td>50</td>\n",
       "    </tr>\n",
       "    <tr>\n",
       "      <th>191</th>\n",
       "      <td>UNNAMED</td>\n",
       "      <td>AL061961</td>\n",
       "      <td>TS</td>\n",
       "      <td>37.1</td>\n",
       "      <td>-76.0</td>\n",
       "      <td>9/14/61 21:00</td>\n",
       "      <td>45</td>\n",
       "    </tr>\n",
       "    <tr>\n",
       "      <th>192</th>\n",
       "      <td>UNNAMED</td>\n",
       "      <td>AL061961</td>\n",
       "      <td>TS</td>\n",
       "      <td>38.3</td>\n",
       "      <td>-75.3</td>\n",
       "      <td>9/15/61 0:00</td>\n",
       "      <td>50</td>\n",
       "    </tr>\n",
       "    <tr>\n",
       "      <th>201</th>\n",
       "      <td>UNNAMED</td>\n",
       "      <td>AL061961</td>\n",
       "      <td>TS</td>\n",
       "      <td>37.1</td>\n",
       "      <td>-76.0</td>\n",
       "      <td>9/14/61 21:00</td>\n",
       "      <td>45</td>\n",
       "    </tr>\n",
       "    <tr>\n",
       "      <th>202</th>\n",
       "      <td>UNNAMED</td>\n",
       "      <td>AL061961</td>\n",
       "      <td>TS</td>\n",
       "      <td>38.3</td>\n",
       "      <td>-75.3</td>\n",
       "      <td>9/15/61 0:00</td>\n",
       "      <td>50</td>\n",
       "    </tr>\n",
       "    <tr>\n",
       "      <th>211</th>\n",
       "      <td>UNNAMED</td>\n",
       "      <td>AL061961</td>\n",
       "      <td>TS</td>\n",
       "      <td>37.1</td>\n",
       "      <td>-76.0</td>\n",
       "      <td>9/14/61 21:00</td>\n",
       "      <td>45</td>\n",
       "    </tr>\n",
       "    <tr>\n",
       "      <th>212</th>\n",
       "      <td>UNNAMED</td>\n",
       "      <td>AL061961</td>\n",
       "      <td>TS</td>\n",
       "      <td>38.3</td>\n",
       "      <td>-75.3</td>\n",
       "      <td>9/15/61 0:00</td>\n",
       "      <td>50</td>\n",
       "    </tr>\n",
       "    <tr>\n",
       "      <th>221</th>\n",
       "      <td>UNNAMED</td>\n",
       "      <td>AL061961</td>\n",
       "      <td>TS</td>\n",
       "      <td>37.1</td>\n",
       "      <td>-76.0</td>\n",
       "      <td>9/14/61 21:00</td>\n",
       "      <td>45</td>\n",
       "    </tr>\n",
       "    <tr>\n",
       "      <th>222</th>\n",
       "      <td>UNNAMED</td>\n",
       "      <td>AL061961</td>\n",
       "      <td>TS</td>\n",
       "      <td>38.3</td>\n",
       "      <td>-75.3</td>\n",
       "      <td>9/15/61 0:00</td>\n",
       "      <td>50</td>\n",
       "    </tr>\n",
       "    <tr>\n",
       "      <th>231</th>\n",
       "      <td>UNNAMED</td>\n",
       "      <td>AL061961</td>\n",
       "      <td>TS</td>\n",
       "      <td>37.1</td>\n",
       "      <td>-76.0</td>\n",
       "      <td>9/14/61 21:00</td>\n",
       "      <td>45</td>\n",
       "    </tr>\n",
       "    <tr>\n",
       "      <th>232</th>\n",
       "      <td>UNNAMED</td>\n",
       "      <td>AL061961</td>\n",
       "      <td>TS</td>\n",
       "      <td>38.3</td>\n",
       "      <td>-75.3</td>\n",
       "      <td>9/15/61 0:00</td>\n",
       "      <td>50</td>\n",
       "    </tr>\n",
       "    <tr>\n",
       "      <th>241</th>\n",
       "      <td>UNNAMED</td>\n",
       "      <td>AL061961</td>\n",
       "      <td>TS</td>\n",
       "      <td>37.1</td>\n",
       "      <td>-76.0</td>\n",
       "      <td>9/14/61 21:00</td>\n",
       "      <td>45</td>\n",
       "    </tr>\n",
       "    <tr>\n",
       "      <th>242</th>\n",
       "      <td>UNNAMED</td>\n",
       "      <td>AL061961</td>\n",
       "      <td>TS</td>\n",
       "      <td>38.3</td>\n",
       "      <td>-75.3</td>\n",
       "      <td>9/15/61 0:00</td>\n",
       "      <td>50</td>\n",
       "    </tr>\n",
       "  </tbody>\n",
       "</table>\n",
       "</div>"
      ],
      "text/plain": [
       "    Storm Name Storm Number Storm Status   Lat   Lon           Time  Maxspeed\n",
       "171    UNNAMED     AL061961           TS  37.1 -76.0  9/14/61 21:00        45\n",
       "172    UNNAMED     AL061961           TS  38.3 -75.3   9/15/61 0:00        50\n",
       "181    UNNAMED     AL061961           TS  37.1 -76.0  9/14/61 21:00        45\n",
       "182    UNNAMED     AL061961           TS  38.3 -75.3   9/15/61 0:00        50\n",
       "191    UNNAMED     AL061961           TS  37.1 -76.0  9/14/61 21:00        45\n",
       "192    UNNAMED     AL061961           TS  38.3 -75.3   9/15/61 0:00        50\n",
       "201    UNNAMED     AL061961           TS  37.1 -76.0  9/14/61 21:00        45\n",
       "202    UNNAMED     AL061961           TS  38.3 -75.3   9/15/61 0:00        50\n",
       "211    UNNAMED     AL061961           TS  37.1 -76.0  9/14/61 21:00        45\n",
       "212    UNNAMED     AL061961           TS  38.3 -75.3   9/15/61 0:00        50\n",
       "221    UNNAMED     AL061961           TS  37.1 -76.0  9/14/61 21:00        45\n",
       "222    UNNAMED     AL061961           TS  38.3 -75.3   9/15/61 0:00        50\n",
       "231    UNNAMED     AL061961           TS  37.1 -76.0  9/14/61 21:00        45\n",
       "232    UNNAMED     AL061961           TS  38.3 -75.3   9/15/61 0:00        50\n",
       "241    UNNAMED     AL061961           TS  37.1 -76.0  9/14/61 21:00        45\n",
       "242    UNNAMED     AL061961           TS  38.3 -75.3   9/15/61 0:00        50"
      ]
     },
     "execution_count": 13,
     "metadata": {},
     "output_type": "execute_result"
    }
   ],
   "source": [
    "#grab a storm from this list and lok at the times\n",
    "#Bill = pd.DataFrame(VA_JR_stormmatch['Storm Number'=='AL032003'])\n",
    "\n",
    "storm = VA_JR_stormmatch[(VA_JR_stormmatch[\"Storm Number\"] == 'AL061961')]\n",
    "storm\n",
    "#so this is the data for a storm named Bill that had a pth through the basin * BILL WAS A BACKDOOR Storm\n",
    "\n"
   ]
  },
  {
   "cell_type": "code",
   "execution_count": 14,
   "id": "cardiovascular-reggae",
   "metadata": {},
   "outputs": [
    {
     "data": {
      "image/png": "[encoded data removed]",
      "text/plain": [
       "<Figure size 1440x720 with 1 Axes>"
      ]
     },
     "metadata": {},
     "output_type": "display_data"
    }
   ],
   "source": [
    "# plotting for the USGS river Gage data \n",
    "import matplotlib\n",
    "import matplotlib.pyplot as plt\n",
    "from climata.usgs import DailyValueIO\n",
    "from datetime import datetime\n",
    "from pandas.plotting import register_matplotlib_converters\n",
    "import numpy as np\n",
    "\n",
    "register_matplotlib_converters()\n",
    "plt.style.use('ggplot')\n",
    "plt.rcParams['figure.figsize'] = (20.0, 10.0)\n",
    "# set parameters\n",
    "nyears = 1\n",
    "ndays = 365 * nyears\n",
    "station_id = \"02037500\"\n",
    "param_id = \"00060\"\n",
    "\n",
    "datelist = pd.date_range(end=datetime.today(), periods=ndays).tolist()\n",
    "#take an annual average for the river\n",
    "annual_data = DailyValueIO(\n",
    "    start_date=\"1961-01-01\",\n",
    "    end_date=\"1962-01-01\",\n",
    "    station=station_id,\n",
    "    parameter=param_id,)\n",
    "for series in annual_data:\n",
    "    flow = [r[1] for r in series.data]\n",
    "    si_flow_annual = np.asarray(flow) * 0.0283168\n",
    "    flow_mean = np.mean(si_flow_annual)\n",
    "\n",
    "#now for the storm     \n",
    "dischg = DailyValueIO(\n",
    "    start_date=\"1961-09-11\",\n",
    "    end_date=\"1961-09-25\",\n",
    "    station=station_id,\n",
    "    parameter=param_id,)\n",
    "#create lists of date-flow values\n",
    "for series in dischg:\n",
    "    flow = [r[1] for r in series.data]\n",
    "    si_flow = np.asarray(flow) * 0.0283168\n",
    "    dates = [r[0] for r in series.data]\n",
    "plt.plot(dates, si_flow)\n",
    "plt.axhline(y=flow_mean, color='r', linestyle='-')\n",
    "plt.xlabel('Date')\n",
    "plt.ylabel('Discharge (m^3/s)')\n",
    "plt.title(\"TS Unnamed - 1961 (Atlantic)\")\n",
    "plt.xticks(rotation='vertical')\n",
    "plt.show()"
   ]
  },
  {
   "cell_type": "code",
   "execution_count": 15,
   "id": "material-firewall",
   "metadata": {},
   "outputs": [
    {
     "data": {
      "text/plain": [
       "5.8227793588303385"
      ]
     },
     "execution_count": 15,
     "metadata": {},
     "output_type": "execute_result"
    }
   ],
   "source": [
    "percent_incr= (abs(max(si_flow)-flow_mean)/abs(flow_mean))*100\n",
    "percent_incr"
   ]
  },
  {
   "cell_type": "code",
   "execution_count": 16,
   "id": "dense-friend",
   "metadata": {},
   "outputs": [
    {
     "name": "stdout",
     "output_type": "stream",
     "text": [
      "27.657057064226677\n"
     ]
    }
   ],
   "source": [
    "#take an annual average for the river\n",
    "annual_data = DailyValueIO(\n",
    "    start_date=\"1961-03-01\",\n",
    "    end_date=\"1961-10-01\",\n",
    "    station=station_id,\n",
    "    parameter=param_id,)\n",
    "for series in annual_data:\n",
    "    flow = [r[1] for r in series.data]\n",
    "    si_flow_annual = np.asarray(flow) * 0.0283168\n",
    "    flow_mean_season = np.mean(si_flow_annual)\n",
    "print(abs(flow_mean-flow_mean_season))"
   ]
  }
 ],
 "metadata": {
  "kernelspec": {
   "display_name": "Python 3",
   "language": "python",
   "name": "python3"
  },
  "language_info": {
   "codemirror_mode": {
    "name": "ipython",
    "version": 3
   },
   "file_extension": ".py",
   "mimetype": "text/x-python",
   "name": "python",
   "nbconvert_exporter": "python",
   "pygments_lexer": "ipython3",
   "version": "3.9.2"
  }
 },
 "nbformat": 4,
 "nbformat_minor": 5
}
